{
 "cells": [
  {
   "cell_type": "markdown",
   "id": "6ed97255",
   "metadata": {},
   "source": [
    "### HT table results for inhibitory subclasses"
   ]
  },
  {
   "cell_type": "code",
   "execution_count": 23,
   "id": "583cc01c",
   "metadata": {},
   "outputs": [],
   "source": [
    "source(\"./scale.R\")\n",
    "test <- read.csv(\"/data/sag_data.csv\")\n",
    "options(warn=-1)"
   ]
  },
  {
   "cell_type": "code",
   "execution_count": 2,
   "id": "96e6abc2",
   "metadata": {},
   "outputs": [
    {
     "data": {
      "text/html": [
       "<style>\n",
       ".list-inline {list-style: none; margin:0; padding: 0}\n",
       ".list-inline>li {display: inline-block}\n",
       ".list-inline>li:not(:last-child)::after {content: \"\\00b7\"; padding: 0 .5ex}\n",
       "</style>\n",
       "<ol class=list-inline><li>25</li><li>42</li><li>69</li><li>17</li><li>61</li></ol>\n"
      ],
      "text/latex": [
       "\\begin{enumerate*}\n",
       "\\item 25\n",
       "\\item 42\n",
       "\\item 69\n",
       "\\item 17\n",
       "\\item 61\n",
       "\\end{enumerate*}\n"
      ],
      "text/markdown": [
       "1. 25\n",
       "2. 42\n",
       "3. 69\n",
       "4. 17\n",
       "5. 61\n",
       "\n",
       "\n"
      ],
      "text/plain": [
       "[1] 25 42 69 17 61"
      ]
     },
     "metadata": {},
     "output_type": "display_data"
    }
   ],
   "source": [
    "seeds <- sample(1:100,5,replace=FALSE)\n",
    "seeds"
   ]
  },
  {
   "cell_type": "code",
   "execution_count": 3,
   "id": "89178a13",
   "metadata": {},
   "outputs": [
    {
     "name": "stderr",
     "output_type": "stream",
     "text": [
      "Loading required package: iterators\n",
      "\n",
      "Loading required package: parallel\n",
      "\n"
     ]
    }
   ],
   "source": [
    "library('foreach')\n",
    "library('doParallel')\n",
    "cores=detectCores()\n",
    "cl <- makeCluster(cores[1]-1) #not to overload your computer\n",
    "registerDoParallel(cl)"
   ]
  },
  {
   "cell_type": "markdown",
   "id": "927f3a5c",
   "metadata": {},
   "source": [
    "## HT table calculation"
   ]
  },
  {
   "cell_type": "code",
   "execution_count": 4,
   "id": "1cd4f431",
   "metadata": {},
   "outputs": [],
   "source": [
    "ecdf_fun <- function(x,perc) ecdf(x)(perc)\n",
    "## Calculate column stats for each type\n",
    "calc_pp_2d<-function(typ,pp,ps,section){\n",
    "    nnp <- c()\n",
    "    nni <- c()\n",
    "    mnn <- c()\n",
    "    res<- list()\n",
    "    for (i in 1:length(pp)){     \n",
    "        perc<- ecdf_fun(nndist(pp[[i]]), 0.01)\n",
    "        int<- intensity(pp[[i]])\n",
    "        mval<- mean(marks(pp[[i]]))\n",
    "        nnp<-append(nnp,perc)\n",
    "        nni<-append(nni,int)\n",
    "        mnn <- append(mnn, mval)\n",
    "        res[[as.character(section[i])]] = min(ps[,i])    \n",
    "    }   \n",
    "    pval <- signif(fisher(unname(unlist(res)))$p,2)\n",
    "    res[['pval']] = pval\n",
    "    res[['perc']] = round(mean(nnp)*100,2)\n",
    "    res[['lam']] = round(mean(nni))\n",
    "    res[['conf']] = round(mean(mnn),2)\n",
    "    res[['rm']] = length(ps[,1])\n",
    "    res[['Cluster']] = typ\n",
    "    return(res)\n",
    "}"
   ]
  },
  {
   "cell_type": "markdown",
   "id": "7a1e938b",
   "metadata": {},
   "source": [
    "### Subclass level"
   ]
  },
  {
   "cell_type": "code",
   "execution_count": 5,
   "id": "016aff2b",
   "metadata": {},
   "outputs": [],
   "source": [
    "types<-c('046 Vip Gaba','049 Lamp5 Gaba','052 Pvalb Gaba','053 Sst Gaba')\n",
    "sections<- list(c(24,22,20),c(22),c(24,23,21,20),c(21))"
   ]
  },
  {
   "cell_type": "code",
   "execution_count": 6,
   "id": "82a26eec",
   "metadata": {},
   "outputs": [
    {
     "data": {
      "text/html": [
       "<table class=\"dataframe\">\n",
       "<caption>A data.frame: 0 × 11</caption>\n",
       "<thead>\n",
       "\t<tr><th scope=col>Cluster</th><th scope=col>X24</th><th scope=col>X23</th><th scope=col>X22</th><th scope=col>X21</th><th scope=col>X20</th><th scope=col>pval</th><th scope=col>perc</th><th scope=col>lam</th><th scope=col>conf</th><th scope=col>rm</th></tr>\n",
       "\t<tr><th scope=col>&lt;chr&gt;</th><th scope=col>&lt;lgl&gt;</th><th scope=col>&lt;lgl&gt;</th><th scope=col>&lt;lgl&gt;</th><th scope=col>&lt;lgl&gt;</th><th scope=col>&lt;lgl&gt;</th><th scope=col>&lt;lgl&gt;</th><th scope=col>&lt;lgl&gt;</th><th scope=col>&lt;lgl&gt;</th><th scope=col>&lt;lgl&gt;</th><th scope=col>&lt;lgl&gt;</th></tr>\n",
       "</thead>\n",
       "<tbody>\n",
       "</tbody>\n",
       "</table>\n"
      ],
      "text/latex": [
       "A data.frame: 0 × 11\n",
       "\\begin{tabular}{lllllllllll}\n",
       " Cluster & X24 & X23 & X22 & X21 & X20 & pval & perc & lam & conf & rm\\\\\n",
       " <chr> & <lgl> & <lgl> & <lgl> & <lgl> & <lgl> & <lgl> & <lgl> & <lgl> & <lgl> & <lgl>\\\\\n",
       "\\hline\n",
       "\\end{tabular}\n"
      ],
      "text/markdown": [
       "\n",
       "A data.frame: 0 × 11\n",
       "\n",
       "| Cluster &lt;chr&gt; | X24 &lt;lgl&gt; | X23 &lt;lgl&gt; | X22 &lt;lgl&gt; | X21 &lt;lgl&gt; | X20 &lt;lgl&gt; | pval &lt;lgl&gt; | perc &lt;lgl&gt; | lam &lt;lgl&gt; | conf &lt;lgl&gt; | rm &lt;lgl&gt; |\n",
       "|---|---|---|---|---|---|---|---|---|---|---|\n",
       "\n"
      ],
      "text/plain": [
       "     Cluster X24 X23 X22 X21 X20 pval perc lam conf rm"
      ]
     },
     "metadata": {},
     "output_type": "display_data"
    }
   ],
   "source": [
    "df = data.frame(matrix(vector(), 0, 11,\n",
    "                dimnames=list(c(), c('Cluster','24','23','22','21','20',\"pval\", \"perc\", \"lam\",'conf','rm'))),\n",
    "                stringsAsFactors=F)\n",
    "df$Cluster <- as.character(df$Cluster)\n",
    "df"
   ]
  },
  {
   "cell_type": "code",
   "execution_count": 7,
   "id": "01fd27cc",
   "metadata": {},
   "outputs": [
    {
     "data": {
      "text/html": [
       "<table class=\"dataframe\">\n",
       "<caption>A data.frame: 4 × 11</caption>\n",
       "<thead>\n",
       "\t<tr><th scope=col>Cluster</th><th scope=col>X24</th><th scope=col>X23</th><th scope=col>X22</th><th scope=col>X21</th><th scope=col>X20</th><th scope=col>pval</th><th scope=col>perc</th><th scope=col>lam</th><th scope=col>conf</th><th scope=col>rm</th></tr>\n",
       "\t<tr><th scope=col>&lt;chr&gt;</th><th scope=col>&lt;dbl&gt;</th><th scope=col>&lt;dbl&gt;</th><th scope=col>&lt;dbl&gt;</th><th scope=col>&lt;dbl&gt;</th><th scope=col>&lt;dbl&gt;</th><th scope=col>&lt;dbl&gt;</th><th scope=col>&lt;dbl&gt;</th><th scope=col>&lt;dbl&gt;</th><th scope=col>&lt;dbl&gt;</th><th scope=col>&lt;int&gt;</th></tr>\n",
       "</thead>\n",
       "<tbody>\n",
       "\t<tr><td>046 Vip Gaba  </td><td>0.060</td><td>NA</td><td>0.015</td><td>  NA</td><td>0.170</td><td>0.0074</td><td>0.51</td><td>37</td><td>0.74</td><td>83</td></tr>\n",
       "\t<tr><td>049 Lamp5 Gaba</td><td>   NA</td><td>NA</td><td>0.670</td><td>  NA</td><td>   NA</td><td>0.6700</td><td>2.47</td><td>30</td><td>0.77</td><td>88</td></tr>\n",
       "\t<tr><td>052 Pvalb Gaba</td><td>0.045</td><td> 1</td><td>   NA</td><td>1.00</td><td>0.385</td><td>0.4200</td><td>3.41</td><td>93</td><td>0.78</td><td>45</td></tr>\n",
       "\t<tr><td>053 Sst Gaba  </td><td>   NA</td><td>NA</td><td>   NA</td><td>0.24</td><td>   NA</td><td>0.2400</td><td>2.14</td><td>61</td><td>0.73</td><td>61</td></tr>\n",
       "</tbody>\n",
       "</table>\n"
      ],
      "text/latex": [
       "A data.frame: 4 × 11\n",
       "\\begin{tabular}{lllllllllll}\n",
       " Cluster & X24 & X23 & X22 & X21 & X20 & pval & perc & lam & conf & rm\\\\\n",
       " <chr> & <dbl> & <dbl> & <dbl> & <dbl> & <dbl> & <dbl> & <dbl> & <dbl> & <dbl> & <int>\\\\\n",
       "\\hline\n",
       "\t 046 Vip Gaba   & 0.060 & NA & 0.015 &   NA & 0.170 & 0.0074 & 0.51 & 37 & 0.74 & 83\\\\\n",
       "\t 049 Lamp5 Gaba &    NA & NA & 0.670 &   NA &    NA & 0.6700 & 2.47 & 30 & 0.77 & 88\\\\\n",
       "\t 052 Pvalb Gaba & 0.045 &  1 &    NA & 1.00 & 0.385 & 0.4200 & 3.41 & 93 & 0.78 & 45\\\\\n",
       "\t 053 Sst Gaba   &    NA & NA &    NA & 0.24 &    NA & 0.2400 & 2.14 & 61 & 0.73 & 61\\\\\n",
       "\\end{tabular}\n"
      ],
      "text/markdown": [
       "\n",
       "A data.frame: 4 × 11\n",
       "\n",
       "| Cluster &lt;chr&gt; | X24 &lt;dbl&gt; | X23 &lt;dbl&gt; | X22 &lt;dbl&gt; | X21 &lt;dbl&gt; | X20 &lt;dbl&gt; | pval &lt;dbl&gt; | perc &lt;dbl&gt; | lam &lt;dbl&gt; | conf &lt;dbl&gt; | rm &lt;int&gt; |\n",
       "|---|---|---|---|---|---|---|---|---|---|---|\n",
       "| 046 Vip Gaba   | 0.060 | NA | 0.015 |   NA | 0.170 | 0.0074 | 0.51 | 37 | 0.74 | 83 |\n",
       "| 049 Lamp5 Gaba |    NA | NA | 0.670 |   NA |    NA | 0.6700 | 2.47 | 30 | 0.77 | 88 |\n",
       "| 052 Pvalb Gaba | 0.045 |  1 |    NA | 1.00 | 0.385 | 0.4200 | 3.41 | 93 | 0.78 | 45 |\n",
       "| 053 Sst Gaba   |    NA | NA |    NA | 0.24 |    NA | 0.2400 | 2.14 | 61 | 0.73 | 61 |\n",
       "\n"
      ],
      "text/plain": [
       "  Cluster        X24   X23 X22   X21  X20   pval   perc lam conf rm\n",
       "1 046 Vip Gaba   0.060 NA  0.015   NA 0.170 0.0074 0.51 37  0.74 83\n",
       "2 049 Lamp5 Gaba    NA NA  0.670   NA    NA 0.6700 2.47 30  0.77 88\n",
       "3 052 Pvalb Gaba 0.045  1     NA 1.00 0.385 0.4200 3.41 93  0.78 45\n",
       "4 053 Sst Gaba      NA NA     NA 0.24    NA 0.2400 2.14 61  0.73 61"
      ]
     },
     "metadata": {},
     "output_type": "display_data"
    }
   ],
   "source": [
    "set.seed(seeds[1]) \n",
    "res1 <- foreach(t = 0:length(types), .combine=function(x,y) bind_rows(as.data.frame(x),as.data.frame(y)),.packages=c('dplyr','spatstat','poolr')) %dopar% {\n",
    "    if (t == 0){\n",
    "        q <- df\n",
    "    }\n",
    "    else{\n",
    "        pp<-create_pp(test, 'FULL',sections[[t]], types[t])\n",
    "        rm<-min(as.numeric(quantile(do.call(c,lapply(pp, nndist)),0.5)),0.12) \n",
    "        ps<-get_pp_2d(pp, rm, FALSE)\n",
    "\n",
    "        ## write into data frame\n",
    "        q <- calc_pp_2d(types[t],pp,ps,sections[[t]])\n",
    "        q\n",
    "    }\n",
    "}\n",
    "res1"
   ]
  },
  {
   "cell_type": "code",
   "execution_count": 8,
   "id": "10514cf5",
   "metadata": {},
   "outputs": [],
   "source": [
    "write.csv(res1, \"table-sub1f.csv\",row.names = FALSE)"
   ]
  },
  {
   "cell_type": "code",
   "execution_count": 35,
   "id": "24cc9e73",
   "metadata": {},
   "outputs": [],
   "source": [
    "res1<-read.csv(\"table-sub1f.csv\")\n",
    "res2<-read.csv(\"table-sub2f.csv\")\n",
    "res3<-read.csv(\"table-sub3f.csv\")\n",
    "res4<-read.csv(\"table-sub4f.csv\")\n",
    "res5<-read.csv(\"table-sub5f.csv\")"
   ]
  },
  {
   "cell_type": "code",
   "execution_count": 38,
   "id": "0442dea5",
   "metadata": {},
   "outputs": [
    {
     "data": {
      "text/html": [
       "<table class=\"dataframe\">\n",
       "<caption>A data.frame: 4 × 11</caption>\n",
       "<thead>\n",
       "\t<tr><th scope=col>Cluster</th><th scope=col>X24</th><th scope=col>X23</th><th scope=col>X22</th><th scope=col>X21</th><th scope=col>X20</th><th scope=col>pval</th><th scope=col>perc</th><th scope=col>lam</th><th scope=col>conf</th><th scope=col>rm</th></tr>\n",
       "\t<tr><th scope=col>&lt;chr&gt;</th><th scope=col>&lt;dbl&gt;</th><th scope=col>&lt;dbl&gt;</th><th scope=col>&lt;dbl&gt;</th><th scope=col>&lt;dbl&gt;</th><th scope=col>&lt;dbl&gt;</th><th scope=col>&lt;dbl&gt;</th><th scope=col>&lt;dbl&gt;</th><th scope=col>&lt;int&gt;</th><th scope=col>&lt;dbl&gt;</th><th scope=col>&lt;int&gt;</th></tr>\n",
       "</thead>\n",
       "<tbody>\n",
       "\t<tr><td>046 Vip Gaba  </td><td>0.160</td><td>   NA</td><td>0.042</td><td>  NA</td><td>0.159</td><td>0.033</td><td>0.51</td><td>37</td><td>0.74</td><td>83</td></tr>\n",
       "\t<tr><td>049 Lamp5 Gaba</td><td>   NA</td><td>   NA</td><td>0.630</td><td>  NA</td><td>   NA</td><td>0.630</td><td>2.47</td><td>30</td><td>0.77</td><td>88</td></tr>\n",
       "\t<tr><td>052 Pvalb Gaba</td><td>0.085</td><td>0.998</td><td>   NA</td><td>1.00</td><td>0.318</td><td>0.510</td><td>3.41</td><td>93</td><td>0.78</td><td>45</td></tr>\n",
       "\t<tr><td>053 Sst Gaba  </td><td>   NA</td><td>   NA</td><td>   NA</td><td>0.24</td><td>   NA</td><td>0.240</td><td>2.14</td><td>61</td><td>0.73</td><td>61</td></tr>\n",
       "</tbody>\n",
       "</table>\n"
      ],
      "text/latex": [
       "A data.frame: 4 × 11\n",
       "\\begin{tabular}{lllllllllll}\n",
       " Cluster & X24 & X23 & X22 & X21 & X20 & pval & perc & lam & conf & rm\\\\\n",
       " <chr> & <dbl> & <dbl> & <dbl> & <dbl> & <dbl> & <dbl> & <dbl> & <int> & <dbl> & <int>\\\\\n",
       "\\hline\n",
       "\t 046 Vip Gaba   & 0.160 &    NA & 0.042 &   NA & 0.159 & 0.033 & 0.51 & 37 & 0.74 & 83\\\\\n",
       "\t 049 Lamp5 Gaba &    NA &    NA & 0.630 &   NA &    NA & 0.630 & 2.47 & 30 & 0.77 & 88\\\\\n",
       "\t 052 Pvalb Gaba & 0.085 & 0.998 &    NA & 1.00 & 0.318 & 0.510 & 3.41 & 93 & 0.78 & 45\\\\\n",
       "\t 053 Sst Gaba   &    NA &    NA &    NA & 0.24 &    NA & 0.240 & 2.14 & 61 & 0.73 & 61\\\\\n",
       "\\end{tabular}\n"
      ],
      "text/markdown": [
       "\n",
       "A data.frame: 4 × 11\n",
       "\n",
       "| Cluster &lt;chr&gt; | X24 &lt;dbl&gt; | X23 &lt;dbl&gt; | X22 &lt;dbl&gt; | X21 &lt;dbl&gt; | X20 &lt;dbl&gt; | pval &lt;dbl&gt; | perc &lt;dbl&gt; | lam &lt;int&gt; | conf &lt;dbl&gt; | rm &lt;int&gt; |\n",
       "|---|---|---|---|---|---|---|---|---|---|---|\n",
       "| 046 Vip Gaba   | 0.160 |    NA | 0.042 |   NA | 0.159 | 0.033 | 0.51 | 37 | 0.74 | 83 |\n",
       "| 049 Lamp5 Gaba |    NA |    NA | 0.630 |   NA |    NA | 0.630 | 2.47 | 30 | 0.77 | 88 |\n",
       "| 052 Pvalb Gaba | 0.085 | 0.998 |    NA | 1.00 | 0.318 | 0.510 | 3.41 | 93 | 0.78 | 45 |\n",
       "| 053 Sst Gaba   |    NA |    NA |    NA | 0.24 |    NA | 0.240 | 2.14 | 61 | 0.73 | 61 |\n",
       "\n"
      ],
      "text/plain": [
       "  Cluster        X24   X23   X22   X21  X20   pval  perc lam conf rm\n",
       "1 046 Vip Gaba   0.160    NA 0.042   NA 0.159 0.033 0.51 37  0.74 83\n",
       "2 049 Lamp5 Gaba    NA    NA 0.630   NA    NA 0.630 2.47 30  0.77 88\n",
       "3 052 Pvalb Gaba 0.085 0.998    NA 1.00 0.318 0.510 3.41 93  0.78 45\n",
       "4 053 Sst Gaba      NA    NA    NA 0.24    NA 0.240 2.14 61  0.73 61"
      ]
     },
     "metadata": {},
     "output_type": "display_data"
    }
   ],
   "source": [
    "res<-Reduce(\"+\", list(res1[,2:6],res2[,2:6],res3[,2:6],res4[,2:6],res5[,2:6])) / 5\n",
    "res<-data.frame(Cluster=res1$Cluster, res)\n",
    "res$pval<-pv\n",
    "res$perc<-res1$perc\n",
    "res$lam<-res1$lam\n",
    "res$conf<-res1$conf\n",
    "res$rm<-res1$rm\n",
    "pv = c()\n",
    "for(i in 1:nrow(res)) {\n",
    "    row <- na.omit(unlist(unname(res[i,2:6])))\n",
    "    pval <- signif(fisher(row)$p,2)\n",
    "    pv<-append(pv,pval)\n",
    "}\n",
    "res"
   ]
  },
  {
   "cell_type": "code",
   "execution_count": 39,
   "id": "5f1b80ce",
   "metadata": {},
   "outputs": [],
   "source": [
    "write.csv(res, \"table-sub.csv\",row.names = FALSE)"
   ]
  },
  {
   "cell_type": "markdown",
   "id": "014eef6e",
   "metadata": {},
   "source": [
    "### Explanation of S22 Vip"
   ]
  },
  {
   "cell_type": "code",
   "execution_count": 40,
   "id": "28f69a43",
   "metadata": {},
   "outputs": [],
   "source": [
    "pp<-create_pp(test, 'FULL',sections[[1]], types[1])"
   ]
  },
  {
   "cell_type": "code",
   "execution_count": 43,
   "id": "02f31554",
   "metadata": {},
   "outputs": [
    {
     "data": {
      "text/html": [
       "<table class=\"dataframe\">\n",
       "<caption>A data.frame: 16 × 2</caption>\n",
       "<thead>\n",
       "\t<tr><th scope=col>marks</th><th scope=col>n</th></tr>\n",
       "\t<tr><th scope=col>&lt;chr&gt;</th><th scope=col>&lt;int&gt;</th></tr>\n",
       "</thead>\n",
       "<tbody>\n",
       "\t<tr><td>0624 Vip Gaba_1 </td><td> 2</td></tr>\n",
       "\t<tr><td>0625 Vip Gaba_1 </td><td> 4</td></tr>\n",
       "\t<tr><td>0627 Vip Gaba_2 </td><td> 1</td></tr>\n",
       "\t<tr><td>0629 Vip Gaba_2 </td><td> 1</td></tr>\n",
       "\t<tr><td>0633 Vip Gaba_3 </td><td> 1</td></tr>\n",
       "\t<tr><td>0634 Vip Gaba_3 </td><td> 1</td></tr>\n",
       "\t<tr><td>0636 Vip Gaba_4 </td><td> 2</td></tr>\n",
       "\t<tr><td>0639 Vip Gaba_4 </td><td> 4</td></tr>\n",
       "\t<tr><td>0641 Vip Gaba_5 </td><td>11</td></tr>\n",
       "\t<tr><td>0643 Vip Gaba_5 </td><td> 7</td></tr>\n",
       "\t<tr><td>0645 Vip Gaba_6 </td><td>16</td></tr>\n",
       "\t<tr><td>0646 Vip Gaba_6 </td><td> 1</td></tr>\n",
       "\t<tr><td>0652 Vip Gaba_8 </td><td> 2</td></tr>\n",
       "\t<tr><td>0657 Vip Gaba_9 </td><td> 1</td></tr>\n",
       "\t<tr><td>0661 Vip Gaba_11</td><td> 6</td></tr>\n",
       "\t<tr><td>0663 Vip Gaba_12</td><td> 6</td></tr>\n",
       "</tbody>\n",
       "</table>\n"
      ],
      "text/latex": [
       "A data.frame: 16 × 2\n",
       "\\begin{tabular}{ll}\n",
       " marks & n\\\\\n",
       " <chr> & <int>\\\\\n",
       "\\hline\n",
       "\t 0624 Vip Gaba\\_1  &  2\\\\\n",
       "\t 0625 Vip Gaba\\_1  &  4\\\\\n",
       "\t 0627 Vip Gaba\\_2  &  1\\\\\n",
       "\t 0629 Vip Gaba\\_2  &  1\\\\\n",
       "\t 0633 Vip Gaba\\_3  &  1\\\\\n",
       "\t 0634 Vip Gaba\\_3  &  1\\\\\n",
       "\t 0636 Vip Gaba\\_4  &  2\\\\\n",
       "\t 0639 Vip Gaba\\_4  &  4\\\\\n",
       "\t 0641 Vip Gaba\\_5  & 11\\\\\n",
       "\t 0643 Vip Gaba\\_5  &  7\\\\\n",
       "\t 0645 Vip Gaba\\_6  & 16\\\\\n",
       "\t 0646 Vip Gaba\\_6  &  1\\\\\n",
       "\t 0652 Vip Gaba\\_8  &  2\\\\\n",
       "\t 0657 Vip Gaba\\_9  &  1\\\\\n",
       "\t 0661 Vip Gaba\\_11 &  6\\\\\n",
       "\t 0663 Vip Gaba\\_12 &  6\\\\\n",
       "\\end{tabular}\n"
      ],
      "text/markdown": [
       "\n",
       "A data.frame: 16 × 2\n",
       "\n",
       "| marks &lt;chr&gt; | n &lt;int&gt; |\n",
       "|---|---|\n",
       "| 0624 Vip Gaba_1  |  2 |\n",
       "| 0625 Vip Gaba_1  |  4 |\n",
       "| 0627 Vip Gaba_2  |  1 |\n",
       "| 0629 Vip Gaba_2  |  1 |\n",
       "| 0633 Vip Gaba_3  |  1 |\n",
       "| 0634 Vip Gaba_3  |  1 |\n",
       "| 0636 Vip Gaba_4  |  2 |\n",
       "| 0639 Vip Gaba_4  |  4 |\n",
       "| 0641 Vip Gaba_5  | 11 |\n",
       "| 0643 Vip Gaba_5  |  7 |\n",
       "| 0645 Vip Gaba_6  | 16 |\n",
       "| 0646 Vip Gaba_6  |  1 |\n",
       "| 0652 Vip Gaba_8  |  2 |\n",
       "| 0657 Vip Gaba_9  |  1 |\n",
       "| 0661 Vip Gaba_11 |  6 |\n",
       "| 0663 Vip Gaba_12 |  6 |\n",
       "\n"
      ],
      "text/plain": [
       "   marks            n \n",
       "1  0624 Vip Gaba_1   2\n",
       "2  0625 Vip Gaba_1   4\n",
       "3  0627 Vip Gaba_2   1\n",
       "4  0629 Vip Gaba_2   1\n",
       "5  0633 Vip Gaba_3   1\n",
       "6  0634 Vip Gaba_3   1\n",
       "7  0636 Vip Gaba_4   2\n",
       "8  0639 Vip Gaba_4   4\n",
       "9  0641 Vip Gaba_5  11\n",
       "10 0643 Vip Gaba_5   7\n",
       "11 0645 Vip Gaba_6  16\n",
       "12 0646 Vip Gaba_6   1\n",
       "13 0652 Vip Gaba_8   2\n",
       "14 0657 Vip Gaba_9   1\n",
       "15 0661 Vip Gaba_11  6\n",
       "16 0663 Vip Gaba_12  6"
      ]
     },
     "metadata": {},
     "output_type": "display_data"
    }
   ],
   "source": [
    "count(as.data.frame(pp[[2]]),marks)"
   ]
  },
  {
   "cell_type": "code",
   "execution_count": 53,
   "id": "754635d7",
   "metadata": {},
   "outputs": [],
   "source": [
    "df<-as.data.frame(pp[[2]])\n",
    "df1<-df[df$marks=='0645 Vip Gaba_6',]\n",
    "df2<-df[df$marks=='0641 Vip Gaba_5',]\n",
    "df3<-df[df$marks=='0661 Vip Gaba_11',]"
   ]
  },
  {
   "cell_type": "code",
   "execution_count": 54,
   "id": "70c5ab93",
   "metadata": {},
   "outputs": [
    {
     "data": {
      "image/png": "[encoded data removed]",
      "text/plain": [
       "plot without title"
      ]
     },
     "metadata": {
      "image/png": {
       "height": 420,
       "width": 420
      }
     },
     "output_type": "display_data"
    }
   ],
   "source": [
    "plot(Window(pp[[2]]),main='')\n",
    "points(df1$x, df1$y,cex=1,pch=20, col='red')\n",
    "points(df2$x, df2$y,cex=1,pch=20, col='blue')\n",
    "points(df3$x, df3$y,cex=1,pch=20, col='green')"
   ]
  },
  {
   "cell_type": "markdown",
   "id": "9345dabb",
   "metadata": {},
   "source": [
    "We can see there is segregation effect.   \n",
    "To explain this, we need to formally define Vip segregations."
   ]
  },
  {
   "cell_type": "code",
   "execution_count": null,
   "id": "790f5004",
   "metadata": {},
   "outputs": [],
   "source": []
  }
 ],
 "metadata": {
  "kernelspec": {
   "display_name": "R",
   "language": "R",
   "name": "ir"
  },
  "language_info": {
   "codemirror_mode": "r",
   "file_extension": ".r",
   "mimetype": "text/x-r-source",
   "name": "R",
   "pygments_lexer": "r",
   "version": "4.3.1"
  }
 },
 "nbformat": 4,
 "nbformat_minor": 5
}
