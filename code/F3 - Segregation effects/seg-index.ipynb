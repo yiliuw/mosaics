{
 "cells": [
  {
   "cell_type": "markdown",
   "id": "a27f175d",
   "metadata": {},
   "source": [
    "### Segregation indices for subclasses \n",
    "For each inhibitory subclass in each section, we treat the point pattern as multitype point process.  \n",
    "Use NN correlation to calculate segregation effect."
   ]
  },
  {
   "cell_type": "code",
   "execution_count": 3,
   "id": "1a454fa9",
   "metadata": {},
   "outputs": [
    {
     "name": "stderr",
     "output_type": "stream",
     "text": [
      "Loading required package: spatstat.data\n",
      "\n",
      "Loading required package: spatstat.univar\n",
      "\n",
      "spatstat.univar 3.0-0\n",
      "\n",
      "Loading required package: spatstat.geom\n",
      "\n",
      "spatstat.geom 3.3-2\n",
      "\n",
      "Loading required package: spatstat.random\n",
      "\n",
      "spatstat.random 3.3-1\n",
      "\n",
      "Loading required package: spatstat.explore\n",
      "\n",
      "Loading required package: nlme\n",
      "\n",
      "spatstat.explore 3.3-1\n",
      "\n",
      "Loading required package: spatstat.model\n",
      "\n",
      "Loading required package: rpart\n",
      "\n",
      "spatstat.model 3.3-1\n",
      "\n",
      "Loading required package: spatstat.linnet\n",
      "\n",
      "spatstat.linnet 3.2-1\n",
      "\n",
      "\n",
      "spatstat 3.1-1 \n",
      "For an introduction to spatstat, type ‘beginner’ \n",
      "\n",
      "\n"
     ]
    },
    {
     "ename": "ERROR",
     "evalue": "Error in library(\"dplyr\"): there is no package called ‘dplyr’\n",
     "output_type": "error",
     "traceback": [
      "Error in library(\"dplyr\"): there is no package called ‘dplyr’\nTraceback:\n",
      "1. source(\"/code/F2 - Hypothesis testing/scale.R\")",
      "2. withVisible(eval(ei, envir))",
      "3. eval(ei, envir)",
      "4. eval(ei, envir)",
      "5. library(\"dplyr\")"
     ]
    }
   ],
   "source": [
    "source(\"/code/F2 - Hypothesis testing/scale.R\")\n",
    "test <- read.csv(\"/data/sag_data.csv\")\n",
    "options(warn=-1)"
   ]
  },
  {
   "cell_type": "markdown",
   "id": "96df13f8",
   "metadata": {},
   "source": [
    "### Find all subclasses  \n",
    "For each qualified cluster, find the corresponding subclass and sections."
   ]
  },
  {
   "cell_type": "code",
   "execution_count": 3,
   "id": "b8d9ebb6",
   "metadata": {},
   "outputs": [],
   "source": [
    "subs_cluster<-function(types){\n",
    "    sups<-c()\n",
    "    for (t in types){\n",
    "        sup<- unique(test[test$cluster %in% t,]$subclass)\n",
    "        sups<-append(sups, sup)\n",
    "    }\n",
    "    return(sups)\n",
    "}"
   ]
  },
  {
   "cell_type": "code",
   "execution_count": 4,
   "id": "7a938bdb",
   "metadata": {},
   "outputs": [
    {
     "data": {
      "text/html": [
       "<style>\n",
       ".list-inline {list-style: none; margin:0; padding: 0}\n",
       ".list-inline>li {display: inline-block}\n",
       ".list-inline>li:not(:last-child)::after {content: \"\\00b7\"; padding: 0 .5ex}\n",
       "</style>\n",
       "<ol class=list-inline><li>'001 CLA-EPd-CTX Car3 Glut'</li><li>'002 IT EP-CLA Glut'</li><li>'003 L5/6 IT TPE-ENT Glut'</li><li>'005 L5 IT CTX Glut'</li><li>'006 L4/5 IT CTX Glut'</li><li>'007 L2/3 IT CTX Glut'</li><li>'022 L5 ET CTX Glut'</li><li>'030 L6 CT CTX Glut'</li></ol>\n"
      ],
      "text/latex": [
       "\\begin{enumerate*}\n",
       "\\item '001 CLA-EPd-CTX Car3 Glut'\n",
       "\\item '002 IT EP-CLA Glut'\n",
       "\\item '003 L5/6 IT TPE-ENT Glut'\n",
       "\\item '005 L5 IT CTX Glut'\n",
       "\\item '006 L4/5 IT CTX Glut'\n",
       "\\item '007 L2/3 IT CTX Glut'\n",
       "\\item '022 L5 ET CTX Glut'\n",
       "\\item '030 L6 CT CTX Glut'\n",
       "\\end{enumerate*}\n"
      ],
      "text/markdown": [
       "1. '001 CLA-EPd-CTX Car3 Glut'\n",
       "2. '002 IT EP-CLA Glut'\n",
       "3. '003 L5/6 IT TPE-ENT Glut'\n",
       "4. '005 L5 IT CTX Glut'\n",
       "5. '006 L4/5 IT CTX Glut'\n",
       "6. '007 L2/3 IT CTX Glut'\n",
       "7. '022 L5 ET CTX Glut'\n",
       "8. '030 L6 CT CTX Glut'\n",
       "\n",
       "\n"
      ],
      "text/plain": [
       "[1] \"001 CLA-EPd-CTX Car3 Glut\" \"002 IT EP-CLA Glut\"       \n",
       "[3] \"003 L5/6 IT TPE-ENT Glut\"  \"005 L5 IT CTX Glut\"       \n",
       "[5] \"006 L4/5 IT CTX Glut\"      \"007 L2/3 IT CTX Glut\"     \n",
       "[7] \"022 L5 ET CTX Glut\"        \"030 L6 CT CTX Glut\"       "
      ]
     },
     "metadata": {},
     "output_type": "display_data"
    }
   ],
   "source": [
    "data<- read.csv(\"/root/capsule/code/table-ex/table-ex.csv\")\n",
    "data$subs<-subs_cluster(data$Cluster)\n",
    "subs.ex<-unique(data$subs)\n",
    "subs.ex"
   ]
  },
  {
   "cell_type": "code",
   "execution_count": 5,
   "id": "ece7e3d6",
   "metadata": {},
   "outputs": [],
   "source": [
    "subs.ex.sec<-list(c(23,21,20),c(20),c(23),c(20),c(24,23,22,21,20),c(24,23,22,21,20),c(23),c(21,20))"
   ]
  },
  {
   "cell_type": "code",
   "execution_count": 6,
   "id": "d78c9305",
   "metadata": {},
   "outputs": [],
   "source": [
    "data1 <-read.csv('./table-sub.csv')\n",
    "subs<- data1$Cluster\n",
    "subs.sec<- list(c(24,20),c(22),c(24,23,21,20),c(21))"
   ]
  },
  {
   "cell_type": "code",
   "execution_count": 7,
   "id": "7d8d45f1",
   "metadata": {},
   "outputs": [
    {
     "name": "stderr",
     "output_type": "stream",
     "text": [
      "046 Vip Gaba\n",
      "\n",
      "049 Lamp5 Gaba\n",
      "\n",
      "052 Pvalb Gaba\n",
      "\n",
      "053 Sst Gaba\n",
      "\n"
     ]
    }
   ],
   "source": [
    "pps <-list()\n",
    "for (t in 1:length(subs)){\n",
    "    message(subs[t])\n",
    "    ppw <-create_pp(test, 'FULL',subs.sec[[t]], subs[t])\n",
    "    pps[[subs[t]]] = ppw\n",
    "}"
   ]
  },
  {
   "cell_type": "code",
   "execution_count": 8,
   "id": "1f349f03",
   "metadata": {},
   "outputs": [
    {
     "name": "stderr",
     "output_type": "stream",
     "text": [
      "001 CLA-EPd-CTX Car3 Glut\n",
      "\n",
      "002 IT EP-CLA Glut\n",
      "\n",
      "003 L5/6 IT TPE-ENT Glut\n",
      "\n",
      "005 L5 IT CTX Glut\n",
      "\n",
      "006 L4/5 IT CTX Glut\n",
      "\n",
      "007 L2/3 IT CTX Glut\n",
      "\n",
      "022 L5 ET CTX Glut\n",
      "\n",
      "030 L6 CT CTX Glut\n",
      "\n"
     ]
    }
   ],
   "source": [
    "ppt <-list()\n",
    "for (t in 1:length(subs.ex)){\n",
    "    message(subs.ex[t])\n",
    "    ppw <-create_pp(test, 'FULL',subs.ex.sec[[t]], subs.ex[t])\n",
    "    ppt[[subs.ex[t]]] = ppw\n",
    "}"
   ]
  },
  {
   "cell_type": "markdown",
   "id": "f6504486",
   "metadata": {},
   "source": [
    "### Calculate nncorr  \n",
    "Unnormalized nn correlation: $E(f(M,M^*))$ where $f$ is the indicator function.  \n",
    "Normalize it using $E(f(M,M'))$ so that the value 1 suggests \"lack of correlation\": if the marks attached to the points of X are iid.  \n",
    "The argument X must be a marked point pattern. "
   ]
  },
  {
   "cell_type": "code",
   "execution_count": 22,
   "id": "b23f6081",
   "metadata": {},
   "outputs": [],
   "source": [
    "calc_perc<-function(typ,s,df){\n",
    "    if (length(df$Cluster)==4){\n",
    "        d<-pps[[typ]][[as.character(s)]]\n",
    "    }\n",
    "    else{\n",
    "        d<-ppt[[typ]][[as.character(s)]]\n",
    "    }\n",
    "    seg<-nncorr(d,k=5)\n",
    "    res<- list()\n",
    "    res[['Type']] = typ\n",
    "    # res[['pval']] = df[df$Cluster==typ,2+24-s]  \n",
    "    res[['unnorm']] = unname(seg[1])\n",
    "    res[['norm']] = unname(seg[2])\n",
    "    res[['section']] = s\n",
    "    return(res)\n",
    "}"
   ]
  },
  {
   "cell_type": "markdown",
   "id": "201b5433",
   "metadata": {},
   "source": [
    "### Table of segregation"
   ]
  },
  {
   "cell_type": "code",
   "execution_count": 23,
   "id": "85c321f0",
   "metadata": {},
   "outputs": [
    {
     "data": {
      "text/html": [
       "<table class=\"dataframe\">\n",
       "<caption>A data.frame: 0 × 4</caption>\n",
       "<thead>\n",
       "\t<tr><th scope=col>Type</th><th scope=col>section</th><th scope=col>unnorm</th><th scope=col>norm</th></tr>\n",
       "\t<tr><th scope=col>&lt;chr&gt;</th><th scope=col>&lt;lgl&gt;</th><th scope=col>&lt;lgl&gt;</th><th scope=col>&lt;lgl&gt;</th></tr>\n",
       "</thead>\n",
       "<tbody>\n",
       "</tbody>\n",
       "</table>\n"
      ],
      "text/latex": [
       "A data.frame: 0 × 4\n",
       "\\begin{tabular}{llll}\n",
       " Type & section & unnorm & norm\\\\\n",
       " <chr> & <lgl> & <lgl> & <lgl>\\\\\n",
       "\\hline\n",
       "\\end{tabular}\n"
      ],
      "text/markdown": [
       "\n",
       "A data.frame: 0 × 4\n",
       "\n",
       "| Type &lt;chr&gt; | section &lt;lgl&gt; | unnorm &lt;lgl&gt; | norm &lt;lgl&gt; |\n",
       "|---|---|---|---|\n",
       "\n"
      ],
      "text/plain": [
       "     Type section unnorm norm"
      ]
     },
     "metadata": {},
     "output_type": "display_data"
    }
   ],
   "source": [
    "df1 =data.frame(matrix(vector(), 0, 4,\n",
    "                dimnames=list(c(), c('Type','section',\"unnorm\", \"norm\"))),\n",
    "                stringsAsFactors=F)\n",
    "df1$Type <- as.character(df1$Type)\n",
    "df1"
   ]
  },
  {
   "cell_type": "code",
   "execution_count": 24,
   "id": "d1119454",
   "metadata": {},
   "outputs": [
    {
     "name": "stderr",
     "output_type": "stream",
     "text": [
      "046 Vip Gaba\n",
      "\n",
      "049 Lamp5 Gaba\n",
      "\n",
      "052 Pvalb Gaba\n",
      "\n",
      "053 Sst Gaba\n",
      "\n"
     ]
    }
   ],
   "source": [
    "for (t in 1:length(subs)){\n",
    "    message(subs[t])\n",
    "    # temp <-read.csv(\"df.csv\")  ## temp table\n",
    "    df1$Type <- as.character(df1$Type)\n",
    "    for (sec in subs.sec[[t]]){\n",
    "        q<-calc_perc(subs[t],sec,data1)\n",
    "        df1<-bind_rows(df1,as.data.frame(q))\n",
    "        #write.csv(temp, \"df.csv\",row.names = FALSE)\n",
    "    }    \n",
    "}"
   ]
  },
  {
   "cell_type": "code",
   "execution_count": 26,
   "id": "d7fb18f6",
   "metadata": {},
   "outputs": [
    {
     "data": {
      "text/html": [
       "<table class=\"dataframe\">\n",
       "<caption>A data.frame: 0 × 4</caption>\n",
       "<thead>\n",
       "\t<tr><th scope=col>Type</th><th scope=col>section</th><th scope=col>unnorm</th><th scope=col>norm</th></tr>\n",
       "\t<tr><th scope=col>&lt;chr&gt;</th><th scope=col>&lt;lgl&gt;</th><th scope=col>&lt;lgl&gt;</th><th scope=col>&lt;lgl&gt;</th></tr>\n",
       "</thead>\n",
       "<tbody>\n",
       "</tbody>\n",
       "</table>\n"
      ],
      "text/latex": [
       "A data.frame: 0 × 4\n",
       "\\begin{tabular}{llll}\n",
       " Type & section & unnorm & norm\\\\\n",
       " <chr> & <lgl> & <lgl> & <lgl>\\\\\n",
       "\\hline\n",
       "\\end{tabular}\n"
      ],
      "text/markdown": [
       "\n",
       "A data.frame: 0 × 4\n",
       "\n",
       "| Type &lt;chr&gt; | section &lt;lgl&gt; | unnorm &lt;lgl&gt; | norm &lt;lgl&gt; |\n",
       "|---|---|---|---|\n",
       "\n"
      ],
      "text/plain": [
       "     Type section unnorm norm"
      ]
     },
     "metadata": {},
     "output_type": "display_data"
    }
   ],
   "source": [
    "df = data.frame(matrix(vector(), 0, 4,\n",
    "                dimnames=list(c(), c('Type','section',\"unnorm\", \"norm\"))),\n",
    "                stringsAsFactors=F)\n",
    "df$Type <- as.character(df$Type)\n",
    "df"
   ]
  },
  {
   "cell_type": "code",
   "execution_count": 27,
   "id": "ce4e6967",
   "metadata": {},
   "outputs": [
    {
     "name": "stderr",
     "output_type": "stream",
     "text": [
      "001 CLA-EPd-CTX Car3 Glut\n",
      "\n",
      "002 IT EP-CLA Glut\n",
      "\n",
      "003 L5/6 IT TPE-ENT Glut\n",
      "\n",
      "005 L5 IT CTX Glut\n",
      "\n",
      "006 L4/5 IT CTX Glut\n",
      "\n",
      "007 L2/3 IT CTX Glut\n",
      "\n",
      "022 L5 ET CTX Glut\n",
      "\n",
      "030 L6 CT CTX Glut\n",
      "\n"
     ]
    }
   ],
   "source": [
    "for (t in 1:length(subs.ex)){\n",
    "    message(subs.ex[t])\n",
    "    # temp <-read.csv(\"df.csv\")  ## temp table\n",
    "    df$Type <- as.character(df$Type)\n",
    "    for (sec in subs.ex.sec[[t]]){\n",
    "        q<-calc_perc(subs.ex[t],sec,data)\n",
    "        df<-bind_rows(df,as.data.frame(q))\n",
    "        #write.csv(temp, \"df.csv\",row.names = FALSE)\n",
    "    }    \n",
    "}"
   ]
  },
  {
   "cell_type": "code",
   "execution_count": 29,
   "id": "7b41e70d",
   "metadata": {},
   "outputs": [],
   "source": [
    "df.comb<-rbind(df,df1)\n",
    "write.csv(df.comb,\"./seg.csv\")"
   ]
  },
  {
   "cell_type": "code",
   "execution_count": 36,
   "id": "5b6b56e0",
   "metadata": {},
   "outputs": [
    {
     "data": {
      "image/png": "[encoded data removed]",
      "text/plain": [
       "plot without title"
      ]
     },
     "metadata": {
      "image/png": {
       "height": 360,
       "width": 240
      }
     },
     "output_type": "display_data"
    }
   ],
   "source": [
    "library('ggplot2')\n",
    "options(repr.plot.width=4, repr.plot.height=6)\n",
    "ggplot(df.comb, aes(x=as.factor(category), y=unnorm)) +\n",
    "    geom_boxplot(fill=\"slateblue\", alpha=0.2) + \n",
    "    scale_x_discrete(breaks=c(0,1),labels=c(\"GABA\",\"Glut\"))+\n",
    "    geom_jitter(color=\"black\", size=2, alpha=0.9) + \n",
    "    theme_bw()+\n",
    "    xlab(\"Subclass type\") + ylab('Segregation index')+theme(axis.text=element_text(size=18),\n",
    "        axis.title=element_text(size=20))"
   ]
  },
  {
   "cell_type": "code",
   "execution_count": null,
   "id": "07eca3ff",
   "metadata": {},
   "outputs": [],
   "source": []
  }
 ],
 "metadata": {
  "kernelspec": {
   "display_name": "R",
   "language": "R",
   "name": "ir"
  },
  "language_info": {
   "codemirror_mode": "r",
   "file_extension": ".r",
   "mimetype": "text/x-r-source",
   "name": "R",
   "pygments_lexer": "r",
   "version": "4.3.1"
  }
 },
 "nbformat": 4,
 "nbformat_minor": 5
}
