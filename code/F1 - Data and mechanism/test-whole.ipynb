{
 "cells": [
  {
   "cell_type": "code",
   "execution_count": 1,
   "id": "a25941b2-7853-4d80-b426-9c0a6bc0608e",
   "metadata": {},
   "outputs": [],
   "source": [
    "import vedo\n",
    "vedo.settings.default_backend='vtk'"
   ]
  },
  {
   "cell_type": "code",
   "execution_count": 2,
   "id": "7629d903-c97f-4649-a42b-d8daa439328d",
   "metadata": {},
   "outputs": [],
   "source": [
    "import random\n",
    "import numpy as np\n",
    "import pandas as pd\n",
    "from brainrender.actors import Points"
   ]
  },
  {
   "cell_type": "code",
   "execution_count": 18,
   "id": "1c8ac8ab-ff74-4902-be83-bfece2ea8a67",
   "metadata": {},
   "outputs": [
    {
     "data": {
      "text/html": [
       "<pre style=\"white-space:pre;overflow-x:auto;line-height:normal;font-family:Menlo,'DejaVu Sans Mono',consolas,'Courier New',monospace\"><span style=\"color: #ff00d7; text-decoration-color: #ff00d7\">brainglobe_atlasapi: allen_mouse_10um not found locally. Downloading...</span>\n",
       "</pre>\n"
      ],
      "text/plain": [
       "\u001b[38;5;200mbrainglobe_atlasapi: allen_mouse_10um not found locally. Downloading\u001b[0m\u001b[38;5;200m...\u001b[0m\n"
      ]
     },
     "metadata": {},
     "output_type": "display_data"
    },
    {
     "data": {
      "application/vnd.jupyter.widget-view+json": {
       "model_id": "efcc7d2cc6334a4b9f572afcca4bef31",
       "version_major": 2,
       "version_minor": 0
      },
      "text/plain": [
       "Output()"
      ]
     },
     "metadata": {},
     "output_type": "display_data"
    },
    {
     "data": {
      "text/html": [
       "<pre style=\"white-space:pre;overflow-x:auto;line-height:normal;font-family:Menlo,'DejaVu Sans Mono',consolas,'Courier New',monospace\"></pre>\n"
      ],
      "text/plain": []
     },
     "metadata": {},
     "output_type": "display_data"
    },
    {
     "data": {
      "text/html": [
       "<pre style=\"white-space:pre;overflow-x:auto;line-height:normal;font-family:Menlo,'DejaVu Sans Mono',consolas,'Courier New',monospace\">\n",
       "</pre>\n"
      ],
      "text/plain": [
       "\n"
      ]
     },
     "metadata": {},
     "output_type": "display_data"
    }
   ],
   "source": [
    "popup_scene = Scene(atlas_name='allen_mouse_10um', title='popup')"
   ]
  },
  {
   "cell_type": "code",
   "execution_count": null,
   "id": "6110ac7f-e929-4705-a1bb-cf7498876a08",
   "metadata": {},
   "outputs": [],
   "source": [
    "from brainrender import Scene\n",
    "popup_scene = Scene(atlas_name='allen_mouse_50um', title='popup')\n",
    "\n",
    "popup_scene.add_brain_region('VISp')\n",
    "\n",
    "popup_scene.render()  # press 'Esc' to close"
   ]
  },
  {
   "cell_type": "markdown",
   "id": "4a073604-af8d-47ef-bb6f-e3e0824f2604",
   "metadata": {},
   "source": [
    "### Data preparation"
   ]
  },
  {
   "cell_type": "code",
   "execution_count": 7,
   "id": "16405bf7-cb7b-4fb7-b2bb-4a789edb0db2",
   "metadata": {},
   "outputs": [],
   "source": [
    "cell_joined = pd.read_csv('./cell_zhuang_1.csv',dtype={\"cell_label\":str})"
   ]
  },
  {
   "cell_type": "code",
   "execution_count": 8,
   "id": "ca347408-d307-472b-a8e4-19e2b838e649",
   "metadata": {},
   "outputs": [],
   "source": [
    "region = cell_joined[cell_joined['parcellation_division'] == 'Isocortex']\n",
    "sections = ['Zhuang-ABCA-3.024', 'Zhuang-ABCA-3.023','Zhuang-ABCA-3.022', 'Zhuang-ABCA-3.021', 'Zhuang-ABCA-3.020']\n",
    "filtered = region[region['brain_section_label'].isin(sections)]\n",
    "filtered2 = region[~region['brain_section_label'].isin(sections)]"
   ]
  },
  {
   "cell_type": "code",
   "execution_count": 9,
   "id": "c1a6bb91-c6e0-4cff-bb3e-ade7a68be39f",
   "metadata": {},
   "outputs": [
    {
     "data": {
      "text/html": [
       "<pre style=\"white-space:pre;overflow-x:auto;line-height:normal;font-family:Menlo,'DejaVu Sans Mono',consolas,'Courier New',monospace\"></pre>\n"
      ],
      "text/plain": []
     },
     "metadata": {},
     "output_type": "display_data"
    },
    {
     "data": {
      "text/plain": [
       "\n",
       "\u001b[1;35marray\u001b[0m\u001b[1m(\u001b[0m\u001b[1m[\u001b[0m\u001b[32m'Zhuang-ABCA-3.023'\u001b[0m, \u001b[32m'Zhuang-ABCA-3.024'\u001b[0m, \u001b[32m'Zhuang-ABCA-3.022'\u001b[0m,\n",
       "       \u001b[32m'Zhuang-ABCA-3.021'\u001b[0m, \u001b[32m'Zhuang-ABCA-3.020'\u001b[0m\u001b[1m]\u001b[0m, \u001b[33mdtype\u001b[0m=\u001b[35mobject\u001b[0m\u001b[1m)\u001b[0m"
      ]
     },
     "execution_count": 9,
     "metadata": {},
     "output_type": "execute_result"
    }
   ],
   "source": [
    "filtered['brain_section_label'].unique()"
   ]
  },
  {
   "cell_type": "code",
   "execution_count": 10,
   "id": "a5358c96-f00b-4ae6-a642-dc7d769e33d1",
   "metadata": {},
   "outputs": [
    {
     "data": {
      "text/html": [
       "<pre style=\"white-space:pre;overflow-x:auto;line-height:normal;font-family:Menlo,'DejaVu Sans Mono',consolas,'Courier New',monospace\"></pre>\n"
      ],
      "text/plain": []
     },
     "metadata": {},
     "output_type": "display_data"
    },
    {
     "data": {
      "text/plain": [
       "\n",
       "\u001b[1;35marray\u001b[0m\u001b[1m(\u001b[0m\u001b[1m[\u001b[0m\u001b[32m'Zhuang-ABCA-3.017'\u001b[0m, \u001b[32m'Zhuang-ABCA-3.016'\u001b[0m, \u001b[32m'Zhuang-ABCA-3.010'\u001b[0m,\n",
       "       \u001b[32m'Zhuang-ABCA-3.008'\u001b[0m, \u001b[32m'Zhuang-ABCA-3.003'\u001b[0m, \u001b[32m'Zhuang-ABCA-3.004'\u001b[0m,\n",
       "       \u001b[32m'Zhuang-ABCA-3.001'\u001b[0m, \u001b[32m'Zhuang-ABCA-3.015'\u001b[0m, \u001b[32m'Zhuang-ABCA-3.002'\u001b[0m,\n",
       "       \u001b[32m'Zhuang-ABCA-3.011'\u001b[0m, \u001b[32m'Zhuang-ABCA-3.019'\u001b[0m, \u001b[32m'Zhuang-ABCA-3.005'\u001b[0m,\n",
       "       \u001b[32m'Zhuang-ABCA-3.006'\u001b[0m, \u001b[32m'Zhuang-ABCA-3.012'\u001b[0m, \u001b[32m'Zhuang-ABCA-3.007'\u001b[0m,\n",
       "       \u001b[32m'Zhuang-ABCA-3.013'\u001b[0m, \u001b[32m'Zhuang-ABCA-3.009'\u001b[0m\u001b[1m]\u001b[0m, \u001b[33mdtype\u001b[0m=\u001b[35mobject\u001b[0m\u001b[1m)\u001b[0m"
      ]
     },
     "execution_count": 10,
     "metadata": {},
     "output_type": "execute_result"
    }
   ],
   "source": [
    "filtered2['brain_section_label'].unique()"
   ]
  },
  {
   "cell_type": "markdown",
   "id": "bd9d9e42-14d5-45e8-8128-613b2f003887",
   "metadata": {},
   "source": [
    "### Illustration of 3D brain slices"
   ]
  },
  {
   "cell_type": "markdown",
   "id": "ec217915-22a3-4ab7-a8b0-a4c12d056a5b",
   "metadata": {},
   "source": [
    "**Shell**"
   ]
  },
  {
   "cell_type": "code",
   "execution_count": 11,
   "id": "a980f7eb-5dab-4739-b5f4-29b1b6c6170e",
   "metadata": {},
   "outputs": [],
   "source": [
    "import brainrender\n",
    "from brainrender import Scene"
   ]
  },
  {
   "cell_type": "code",
   "execution_count": 12,
   "id": "31d08f63-0059-4bd4-a530-b06405b73a13",
   "metadata": {},
   "outputs": [],
   "source": [
    "brainrender.settings.DEFAULT_CAMERA = \"top\"  # Default camera settings (orientation etc. see brainrender.camera.py)\n",
    "brainrender.settings.ROOT_ALPHA = 0.35  # transparency of the overall brain model's actor'\n",
    "brainrender.settings.SHADER_STYLE = \"plastic\"  # affects the look of rendered brain regions: [metallic, plastic, shiny, glossy, cartoon]\n",
    "brainrender.settings.SHOW_AXES = False"
   ]
  },
  {
   "cell_type": "code",
   "execution_count": 13,
   "id": "54ceb0c3-be00-404b-b23b-910564a87750",
   "metadata": {},
   "outputs": [
    {
     "data": {
      "text/html": [
       "<pre style=\"white-space:pre;overflow-x:auto;line-height:normal;font-family:Menlo,'DejaVu Sans Mono',consolas,'Courier New',monospace\"></pre>\n"
      ],
      "text/plain": []
     },
     "metadata": {},
     "output_type": "display_data"
    },
    {
     "data": {
      "text/html": [
       "<table>\n",
       "<tr>\n",
       "<td>\n",
       "<img src='data:image/png;base64,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'></img>\n",
       "</td>\n",
       "<td style='text-align: center; vertical-align: center;'><br/>\n",
       "<b> Mesh: &nbsp&nbsp</b><b><a href=\"https://vedo.embl.es/docs/vedo/mesh.html#Mesh\" target=\"_blank\">vedo.mesh.Mesh</a></b><br/><code><i>(...mouse_10um_v1.2\\meshes\\315.obj)</i></code>\n",
       "<table>\n",
       "<tr><td><b> bounds </b> <br/> (x/y/z) </td><td>1803 ... 1.037e+4<br/>150.9 ... 5535<br/>-1.087e+4 ... -502.3</td></tr>\n",
       "<tr><td><b> center of mass </b></td><td>(6.31e+3, 2.75e+3, -5.70e+3)</td></tr>\n",
       "<tr><td><b> average size </b></td><td>3825.004</td></tr>\n",
       "<tr><td><b> nr. points&nbsp/&nbspfaces </b></td><td>31592&nbsp/&nbsp63176</td></tr>\n",
       "\n",
       "\n",
       "</table>\n",
       "</table>"
      ],
      "text/plain": [
       "\n",
       "\n",
       "\n",
       "\n",
       "\u001b[38;2;192;192;192m╭──────────────────────────────────────────────────────────────────────────────────────╮\u001b[0m\n",
       "\u001b[38;2;192;192;192m│\u001b[0m  \u001b[1m \u001b[0m\u001b[1m                                                                                \u001b[0m\u001b[1m \u001b[0m  \u001b[38;2;192;192;192m│\u001b[0m\n",
       "\u001b[38;2;192;192;192m│\u001b[0m   \u001b[1;38;2;255;167;38mbrainrender.Actor: \u001b[0m                                                                \u001b[38;2;192;192;192m│\u001b[0m\n",
       "\u001b[38;2;192;192;192m│\u001b[0m   \u001b[1;38;2;255;167;38m──────────────────────\u001b[0m                                                             \u001b[38;2;192;192;192m│\u001b[0m\n",
       "\u001b[38;2;192;192;192m│\u001b[0m                                                                                      \u001b[38;2;192;192;192m│\u001b[0m\n",
       "\u001b[38;2;192;192;192m│\u001b[0m   \u001b[1;38;2;255;167;38mname:\u001b[0m\u001b[38;2;255;202;40m Isocortex\u001b[0m                                                                    \u001b[38;2;192;192;192m│\u001b[0m\n",
       "\u001b[38;2;192;192;192m│\u001b[0m   \u001b[1;38;2;255;167;38mtype:\u001b[0m\u001b[38;2;255;202;40m brain region\u001b[0m                                                                 \u001b[38;2;192;192;192m│\u001b[0m\n",
       "\u001b[38;2;192;192;192m│\u001b[0m   \u001b[38;2;255;255;255m─\u001b[0m\u001b[38;2;255;255;255m─\u001b[0m\u001b[38;2;255;255;255m─\u001b[0m\u001b[38;2;255;255;255m─\u001b[0m\u001b[38;2;255;255;255m─\u001b[0m\u001b[38;2;255;255;255m─\u001b[0m\u001b[38;2;255;255;255m─\u001b[0m\u001b[38;2;255;255;255m─\u001b[0m\u001b[38;2;255;255;255m─\u001b[0m\u001b[38;2;255;255;255m─\u001b[0m\u001b[38;2;255;255;255m─\u001b[0m\u001b[38;2;255;255;255m─\u001b[0m\u001b[38;2;255;255;255m─\u001b[0m\u001b[38;2;255;255;255m─\u001b[0m\u001b[38;2;255;255;255m─\u001b[0m\u001b[38;2;255;255;255m─\u001b[0m\u001b[38;2;255;255;255m─\u001b[0m\u001b[38;2;255;255;255m─\u001b[0m\u001b[38;2;255;255;255m─\u001b[0m\u001b[38;2;255;255;255m─\u001b[0m\u001b[38;2;255;255;255m─\u001b[0m\u001b[38;2;255;255;255m─\u001b[0m\u001b[38;2;255;255;255m─\u001b[0m\u001b[38;2;255;255;255m─\u001b[0m\u001b[38;2;255;255;255m─\u001b[0m\u001b[38;2;255;255;255m─\u001b[0m\u001b[38;2;255;255;255m─\u001b[0m\u001b[38;2;255;255;255m─\u001b[0m\u001b[38;2;255;255;255m─\u001b[0m\u001b[38;2;255;255;255m─\u001b[0m\u001b[38;2;255;255;255m─\u001b[0m\u001b[38;2;255;255;255m─\u001b[0m\u001b[38;2;255;255;255m─\u001b[0m\u001b[38;2;255;255;255m─\u001b[0m\u001b[38;2;255;255;255m─\u001b[0m\u001b[38;2;255;255;255m─\u001b[0m\u001b[38;2;255;255;255m─\u001b[0m\u001b[38;2;255;255;255m─\u001b[0m\u001b[38;2;255;255;255m─\u001b[0m\u001b[38;2;255;255;255m─\u001b[0m\u001b[38;2;255;255;255m─\u001b[0m\u001b[38;2;255;255;255m─\u001b[0m\u001b[38;2;255;255;255m─\u001b[0m\u001b[38;2;255;255;255m─\u001b[0m\u001b[38;2;255;255;255m─\u001b[0m\u001b[38;2;255;255;255m─\u001b[0m\u001b[38;2;255;255;255m─\u001b[0m\u001b[38;2;255;255;255m─\u001b[0m\u001b[38;2;255;255;255m─\u001b[0m\u001b[38;2;255;255;255m─\u001b[0m\u001b[38;2;255;255;255m─\u001b[0m\u001b[38;2;255;255;255m─\u001b[0m\u001b[38;2;255;255;255m─\u001b[0m\u001b[38;2;255;255;255m─\u001b[0m\u001b[38;2;255;255;255m─\u001b[0m\u001b[38;2;255;255;255m─\u001b[0m\u001b[38;2;255;255;255m─\u001b[0m\u001b[38;2;255;255;255m─\u001b[0m\u001b[38;2;255;255;255m─\u001b[0m\u001b[38;2;255;255;255m─\u001b[0m\u001b[38;2;255;255;255m─\u001b[0m\u001b[38;2;255;255;255m─\u001b[0m\u001b[38;2;255;255;255m─\u001b[0m\u001b[38;2;255;255;255m─\u001b[0m\u001b[38;2;255;255;255m─\u001b[0m\u001b[38;2;255;255;255m─\u001b[0m\u001b[38;2;255;255;255m─\u001b[0m\u001b[38;2;255;255;255m─\u001b[0m\u001b[38;2;255;255;255m─\u001b[0m\u001b[38;2;255;255;255m─\u001b[0m\u001b[38;2;255;255;255m─\u001b[0m\u001b[38;2;255;255;255m─\u001b[0m\u001b[38;2;255;255;255m─\u001b[0m\u001b[38;2;255;255;255m─\u001b[0m\u001b[38;2;255;255;255m─\u001b[0m\u001b[38;2;255;255;255m─\u001b[0m\u001b[38;2;255;255;255m─\u001b[0m\u001b[38;2;255;255;255m─\u001b[0m\u001b[38;2;255;255;255m─\u001b[0m\u001b[38;2;255;255;255m─\u001b[0m   \u001b[38;2;192;192;192m│\u001b[0m\n",
       "\u001b[38;2;192;192;192m│\u001b[0m   \u001b[38;2;255;167;38mcenter of mass:\u001b[0m\u001b[38;2;255;202;40m [6308 2747 5696]\u001b[0m                                                   \u001b[38;2;192;192;192m│\u001b[0m\n",
       "\u001b[38;2;192;192;192m│\u001b[0m   \u001b[38;2;255;167;38mnumber of vertices:\u001b[0m\u001b[38;2;255;202;40m 31592\u001b[0m                                                          \u001b[38;2;192;192;192m│\u001b[0m\n",
       "\u001b[38;2;192;192;192m│\u001b[0m   \u001b[38;2;255;167;38mdimensions:\u001b[0m\u001b[38;2;255;202;40m [ 1803 10373   150  5535   502 10873]\u001b[0m                                  \u001b[38;2;192;192;192m│\u001b[0m\n",
       "\u001b[38;2;192;192;192m│\u001b[0m   \u001b[38;2;255;167;38mcolor:\u001b[0m\u001b[38;2;255;202;40m [0.43921569 1.         0.44313725]\u001b[0m                                          \u001b[38;2;192;192;192m│\u001b[0m\n",
       "\u001b[38;2;192;192;192m│\u001b[0m                                                                                      \u001b[38;2;192;192;192m│\u001b[0m\n",
       "\u001b[38;2;192;192;192m╰──────────────────────────────────────────────────────────────────────────────────────╯\u001b[0m"
      ]
     },
     "execution_count": 13,
     "metadata": {},
     "output_type": "execute_result"
    }
   ],
   "source": [
    "scene = Scene(atlas_name='allen_mouse_10um', title='')\n",
    "scene.add_brain_region(\"Isocortex\",alpha=0.25)\n",
    "# mos = scene.add_brain_region(\"MOs\",alpha=0.15)"
   ]
  },
  {
   "cell_type": "code",
   "execution_count": 11,
   "id": "b2227f94-d699-4675-be0b-601c42ba6acf",
   "metadata": {},
   "outputs": [],
   "source": [
    "def get_n_random_points_in_region(region, N):\n",
    "    region_bounds = region.mesh.bounds()\n",
    "    X = np.random.randint(region_bounds[0], region_bounds[1], size=10000)\n",
    "    Y = np.random.randint(region_bounds[2], region_bounds[3], size=10000)\n",
    "    Z = np.random.randint(region_bounds[4], region_bounds[5], size=10000)\n",
    "    pts = [[x, y, z] for x, y, z in zip(X, Y, Z)]\n",
    "\n",
    "    ipts = region.mesh.inside_points(pts).coordinates\n",
    "    return np.vstack(random.choices(ipts, k=N))"
   ]
  },
  {
   "cell_type": "code",
   "execution_count": null,
   "id": "4e213b99-3a5a-4ec6-968f-5f4364f22442",
   "metadata": {},
   "outputs": [],
   "source": [
    "coordinates = get_n_random_points_in_region(mos,2000)\n",
    "scene.add(Points(coordinates, name=\"CELLS\",colors='steelblue'))\n",
    "scene.slice(\"sagittal\")\n",
    "scene.render()"
   ]
  },
  {
   "cell_type": "markdown",
   "id": "619faaff-e1a8-4627-b5dc-afc7ca19d62a",
   "metadata": {},
   "source": [
    "**Points**"
   ]
  },
  {
   "cell_type": "code",
   "execution_count": 10,
   "id": "c63c7594-6376-4692-a4ba-fdfb412f7899",
   "metadata": {},
   "outputs": [],
   "source": [
    "test = pd.read_csv('./sag_data.csv',dtype={\"cell_label\":str})"
   ]
  },
  {
   "cell_type": "code",
   "execution_count": null,
   "id": "3baa8ab0-7b71-4ca5-9099-6996db54a20c",
   "metadata": {},
   "outputs": [],
   "source": [
    "sections = ['Zhuang-ABCA-3.024','Zhuang-ABCA-3.023','Zhuang-ABCA-3.022','Zhuang-ABCA-3.021','Zhuang-ABCA-3.020']\n",
    "#sections = ['Zhuang-ABCA-3.015','Zhuang-ABCA-3.016','Zhuang-ABCA-3.017']\n",
    "filtered = test[test['brain_section_label'].isin(sections)]"
   ]
  },
  {
   "cell_type": "code",
   "execution_count": null,
   "id": "38f2430b-1869-45d7-8f9f-72a3b54b32a8",
   "metadata": {},
   "outputs": [],
   "source": [
    "print(list(test))"
   ]
  },
  {
   "cell_type": "code",
   "execution_count": 17,
   "id": "98d9da1f-4d93-46e5-b6b0-6e53509f63eb",
   "metadata": {},
   "outputs": [],
   "source": [
    "cells = filtered[['x_ccf','y_ccf','z_ccf']]"
   ]
  },
  {
   "cell_type": "code",
   "execution_count": 18,
   "id": "45023334-a181-4e4d-bc15-3736f821874a",
   "metadata": {},
   "outputs": [],
   "source": [
    "cells2 = filtered2[['x_ccf','y_ccf','z_ccf']]"
   ]
  },
  {
   "cell_type": "code",
   "execution_count": 19,
   "id": "a8a03cc6-92a5-496a-b6f1-a0ee5618640d",
   "metadata": {},
   "outputs": [],
   "source": [
    "def read_in_cells(cells):\n",
    "    x = cells['x_ccf'].tolist()\n",
    "    y = cells['y_ccf'].tolist()\n",
    "    z = cells['z_ccf'].tolist()\n",
    "\n",
    "    x = [e*1000 for e in x]\n",
    "    y = [e*1000 for e in y]\n",
    "    z = [e*1000 for e in z]\n",
    "    pts = [[x,y,z] for x,y,z in zip(x,y,z)]\n",
    "    return np.vstack(pts)"
   ]
  },
  {
   "cell_type": "code",
   "execution_count": 20,
   "id": "d72eb21f-b08b-48e7-a82e-cc70b40de467",
   "metadata": {},
   "outputs": [
    {
     "data": {
      "text/html": [
       "<pre style=\"white-space:pre;overflow-x:auto;line-height:normal;font-family:Menlo,'DejaVu Sans Mono',consolas,'Courier New',monospace\"></pre>\n"
      ],
      "text/plain": []
     },
     "metadata": {},
     "output_type": "display_data"
    },
    {
     "data": {
      "text/html": [
       "<table>\n",
       "<tr>\n",
       "<td>\n",
       "<img src='data:image/png;base64,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'></img>\n",
       "</td>\n",
       "<td style='text-align: center; vertical-align: center;'><br/>\n",
       "<b> Spheres: &nbsp&nbsp</b><b><a href=\"https://vedo.embl.es/docs/vedo/mesh.html#Mesh\" target=\"_blank\">vedo.mesh.Mesh</a></b>\n",
       "<table>\n",
       "<tr><td><b> bounds </b> <br/> (x/y/z) </td><td>1795 ... 1.039e+4<br/>151.5 ... 5440<br/>-5458 ... -1898</td></tr>\n",
       "<tr><td><b> center of mass </b></td><td>(5.84e+3, 1.99e+3, -3.82e+3)</td></tr>\n",
       "<tr><td><b> average size </b></td><td>2477.621</td></tr>\n",
       "<tr><td><b> nr. points&nbsp/&nbspfaces </b></td><td>24165722&nbsp/&nbsp47345088</td></tr>\n",
       "\n",
       "\n",
       "</table>\n",
       "</table>"
      ],
      "text/plain": [
       "\n",
       "\n",
       "\n",
       "\n",
       "\u001b[38;2;192;192;192m╭──────────────────────────────────────────────────────────────────────────────────────╮\u001b[0m\n",
       "\u001b[38;2;192;192;192m│\u001b[0m  \u001b[1m \u001b[0m\u001b[1m                                                                                \u001b[0m\u001b[1m \u001b[0m  \u001b[38;2;192;192;192m│\u001b[0m\n",
       "\u001b[38;2;192;192;192m│\u001b[0m   \u001b[1;38;2;255;167;38mbrainrender.Actor: \u001b[0m                                                                \u001b[38;2;192;192;192m│\u001b[0m\n",
       "\u001b[38;2;192;192;192m│\u001b[0m   \u001b[1;38;2;255;167;38m──────────────────────\u001b[0m                                                             \u001b[38;2;192;192;192m│\u001b[0m\n",
       "\u001b[38;2;192;192;192m│\u001b[0m                                                                                      \u001b[38;2;192;192;192m│\u001b[0m\n",
       "\u001b[38;2;192;192;192m│\u001b[0m   \u001b[1;38;2;255;167;38mname:\u001b[0m\u001b[38;2;255;202;40m CELLS\u001b[0m                                                                        \u001b[38;2;192;192;192m│\u001b[0m\n",
       "\u001b[38;2;192;192;192m│\u001b[0m   \u001b[1;38;2;255;167;38mtype:\u001b[0m\u001b[38;2;255;202;40m Points\u001b[0m                                                                       \u001b[38;2;192;192;192m│\u001b[0m\n",
       "\u001b[38;2;192;192;192m│\u001b[0m   \u001b[38;2;255;255;255m─\u001b[0m\u001b[38;2;255;255;255m─\u001b[0m\u001b[38;2;255;255;255m─\u001b[0m\u001b[38;2;255;255;255m─\u001b[0m\u001b[38;2;255;255;255m─\u001b[0m\u001b[38;2;255;255;255m─\u001b[0m\u001b[38;2;255;255;255m─\u001b[0m\u001b[38;2;255;255;255m─\u001b[0m\u001b[38;2;255;255;255m─\u001b[0m\u001b[38;2;255;255;255m─\u001b[0m\u001b[38;2;255;255;255m─\u001b[0m\u001b[38;2;255;255;255m─\u001b[0m\u001b[38;2;255;255;255m─\u001b[0m\u001b[38;2;255;255;255m─\u001b[0m\u001b[38;2;255;255;255m─\u001b[0m\u001b[38;2;255;255;255m─\u001b[0m\u001b[38;2;255;255;255m─\u001b[0m\u001b[38;2;255;255;255m─\u001b[0m\u001b[38;2;255;255;255m─\u001b[0m\u001b[38;2;255;255;255m─\u001b[0m\u001b[38;2;255;255;255m─\u001b[0m\u001b[38;2;255;255;255m─\u001b[0m\u001b[38;2;255;255;255m─\u001b[0m\u001b[38;2;255;255;255m─\u001b[0m\u001b[38;2;255;255;255m─\u001b[0m\u001b[38;2;255;255;255m─\u001b[0m\u001b[38;2;255;255;255m─\u001b[0m\u001b[38;2;255;255;255m─\u001b[0m\u001b[38;2;255;255;255m─\u001b[0m\u001b[38;2;255;255;255m─\u001b[0m\u001b[38;2;255;255;255m─\u001b[0m\u001b[38;2;255;255;255m─\u001b[0m\u001b[38;2;255;255;255m─\u001b[0m\u001b[38;2;255;255;255m─\u001b[0m\u001b[38;2;255;255;255m─\u001b[0m\u001b[38;2;255;255;255m─\u001b[0m\u001b[38;2;255;255;255m─\u001b[0m\u001b[38;2;255;255;255m─\u001b[0m\u001b[38;2;255;255;255m─\u001b[0m\u001b[38;2;255;255;255m─\u001b[0m\u001b[38;2;255;255;255m─\u001b[0m\u001b[38;2;255;255;255m─\u001b[0m\u001b[38;2;255;255;255m─\u001b[0m\u001b[38;2;255;255;255m─\u001b[0m\u001b[38;2;255;255;255m─\u001b[0m\u001b[38;2;255;255;255m─\u001b[0m\u001b[38;2;255;255;255m─\u001b[0m\u001b[38;2;255;255;255m─\u001b[0m\u001b[38;2;255;255;255m─\u001b[0m\u001b[38;2;255;255;255m─\u001b[0m\u001b[38;2;255;255;255m─\u001b[0m\u001b[38;2;255;255;255m─\u001b[0m\u001b[38;2;255;255;255m─\u001b[0m\u001b[38;2;255;255;255m─\u001b[0m\u001b[38;2;255;255;255m─\u001b[0m\u001b[38;2;255;255;255m─\u001b[0m\u001b[38;2;255;255;255m─\u001b[0m\u001b[38;2;255;255;255m─\u001b[0m\u001b[38;2;255;255;255m─\u001b[0m\u001b[38;2;255;255;255m─\u001b[0m\u001b[38;2;255;255;255m─\u001b[0m\u001b[38;2;255;255;255m─\u001b[0m\u001b[38;2;255;255;255m─\u001b[0m\u001b[38;2;255;255;255m─\u001b[0m\u001b[38;2;255;255;255m─\u001b[0m\u001b[38;2;255;255;255m─\u001b[0m\u001b[38;2;255;255;255m─\u001b[0m\u001b[38;2;255;255;255m─\u001b[0m\u001b[38;2;255;255;255m─\u001b[0m\u001b[38;2;255;255;255m─\u001b[0m\u001b[38;2;255;255;255m─\u001b[0m\u001b[38;2;255;255;255m─\u001b[0m\u001b[38;2;255;255;255m─\u001b[0m\u001b[38;2;255;255;255m─\u001b[0m\u001b[38;2;255;255;255m─\u001b[0m\u001b[38;2;255;255;255m─\u001b[0m\u001b[38;2;255;255;255m─\u001b[0m\u001b[38;2;255;255;255m─\u001b[0m\u001b[38;2;255;255;255m─\u001b[0m\u001b[38;2;255;255;255m─\u001b[0m   \u001b[38;2;192;192;192m│\u001b[0m\n",
       "\u001b[38;2;192;192;192m│\u001b[0m   \u001b[38;2;255;167;38mcenter of mass:\u001b[0m\u001b[38;2;255;202;40m [5838 1990 3819]\u001b[0m                                                   \u001b[38;2;192;192;192m│\u001b[0m\n",
       "\u001b[38;2;192;192;192m│\u001b[0m   \u001b[38;2;255;167;38mnumber of vertices:\u001b[0m\u001b[38;2;255;202;40m 24165722\u001b[0m                                                       \u001b[38;2;192;192;192m│\u001b[0m\n",
       "\u001b[38;2;192;192;192m│\u001b[0m   \u001b[38;2;255;167;38mdimensions:\u001b[0m\u001b[38;2;255;202;40m [ 1795 10386   151  5440  1898  5458]\u001b[0m                                  \u001b[38;2;192;192;192m│\u001b[0m\n",
       "\u001b[38;2;192;192;192m│\u001b[0m   \u001b[38;2;255;167;38mcolor:\u001b[0m\u001b[38;2;255;202;40m [0.50196078 0.50196078 0.50196078]\u001b[0m                                          \u001b[38;2;192;192;192m│\u001b[0m\n",
       "\u001b[38;2;192;192;192m│\u001b[0m                                                                                      \u001b[38;2;192;192;192m│\u001b[0m\n",
       "\u001b[38;2;192;192;192m╰──────────────────────────────────────────────────────────────────────────────────────╯\u001b[0m"
      ]
     },
     "execution_count": 20,
     "metadata": {},
     "output_type": "execute_result"
    }
   ],
   "source": [
    "coordinates= read_in_cells(cells)\n",
    "coordinates2= read_in_cells(cells2)\n",
    "scene.add(Points(coordinates, name=\"CELLS\",colors='crimson'))\n",
    "scene.add(Points(coordinates2, name=\"CELLS\",colors='grey',alpha=0.25))"
   ]
  },
  {
   "cell_type": "code",
   "execution_count": null,
   "id": "c87ac367-4010-4843-8a32-568ea97e897d",
   "metadata": {},
   "outputs": [],
   "source": [
    "#scene.slice('sagittal')\n",
    "scene.render()"
   ]
  },
  {
   "cell_type": "code",
   "execution_count": null,
   "id": "2db0e2fa-3114-43a4-906f-1d44b07d4220",
   "metadata": {},
   "outputs": [],
   "source": []
  }
 ],
 "metadata": {
  "kernelspec": {
   "display_name": "Python 3 (ipykernel)",
   "language": "python",
   "name": "python3"
  },
  "language_info": {
   "codemirror_mode": {
    "name": "ipython",
    "version": 3
   },
   "file_extension": ".py",
   "mimetype": "text/x-python",
   "name": "python",
   "nbconvert_exporter": "python",
   "pygments_lexer": "ipython3",
   "version": "3.11.9"
  }
 },
 "nbformat": 4,
 "nbformat_minor": 5
}
