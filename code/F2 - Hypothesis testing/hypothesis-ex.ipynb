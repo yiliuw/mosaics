{
 "cells": [
  {
   "cell_type": "markdown",
   "id": "6ed97255",
   "metadata": {},
   "source": [
    "### HT table results for excitatory types"
   ]
  },
  {
   "cell_type": "code",
   "execution_count": 1,
   "id": "583cc01c",
   "metadata": {},
   "outputs": [
    {
     "name": "stderr",
     "output_type": "stream",
     "text": [
      "Loading required package: spatstat.data\n",
      "\n",
      "Loading required package: spatstat.geom\n",
      "\n",
      "spatstat.geom 3.2-9\n",
      "\n",
      "Loading required package: spatstat.random\n",
      "\n",
      "spatstat.random 3.2-3\n",
      "\n",
      "Loading required package: spatstat.explore\n",
      "\n",
      "Loading required package: nlme\n",
      "\n",
      "spatstat.explore 3.2-7\n",
      "\n",
      "Loading required package: spatstat.model\n",
      "\n",
      "Loading required package: rpart\n",
      "\n",
      "spatstat.model 3.2-11\n",
      "\n",
      "Loading required package: spatstat.linnet\n",
      "\n",
      "spatstat.linnet 3.1-5\n",
      "\n",
      "\n",
      "spatstat 3.0-8 \n",
      "For an introduction to spatstat, type ‘beginner’ \n",
      "\n",
      "\n",
      "\n",
      "Attaching package: ‘dplyr’\n",
      "\n",
      "\n",
      "The following object is masked from ‘package:nlme’:\n",
      "\n",
      "    collapse\n",
      "\n",
      "\n",
      "The following objects are masked from ‘package:stats’:\n",
      "\n",
      "    filter, lag\n",
      "\n",
      "\n",
      "The following objects are masked from ‘package:base’:\n",
      "\n",
      "    intersect, setdiff, setequal, union\n",
      "\n",
      "\n"
     ]
    }
   ],
   "source": [
    "source(\"./scale.R\")\n",
    "test <- read.csv(\"/data/sag_data.csv\")\n",
    "options(warn=-1)"
   ]
  },
  {
   "cell_type": "code",
   "execution_count": 2,
   "id": "fb173d42",
   "metadata": {},
   "outputs": [
    {
     "data": {
      "text/html": [
       "<style>\n",
       ".list-inline {list-style: none; margin:0; padding: 0}\n",
       ".list-inline>li {display: inline-block}\n",
       ".list-inline>li:not(:last-child)::after {content: \"\\00b7\"; padding: 0 .5ex}\n",
       "</style>\n",
       "<ol class=list-inline><li>25</li><li>42</li><li>69</li><li>17</li><li>61</li></ol>\n"
      ],
      "text/latex": [
       "\\begin{enumerate*}\n",
       "\\item 25\n",
       "\\item 42\n",
       "\\item 69\n",
       "\\item 17\n",
       "\\item 61\n",
       "\\end{enumerate*}\n"
      ],
      "text/markdown": [
       "1. 25\n",
       "2. 42\n",
       "3. 69\n",
       "4. 17\n",
       "5. 61\n",
       "\n",
       "\n"
      ],
      "text/plain": [
       "[1] 25 42 69 17 61"
      ]
     },
     "metadata": {},
     "output_type": "display_data"
    }
   ],
   "source": [
    "seeds <- sample(1:100,5,replace=FALSE)\n",
    "seeds"
   ]
  },
  {
   "cell_type": "code",
   "execution_count": 3,
   "id": "89178a13",
   "metadata": {},
   "outputs": [
    {
     "name": "stderr",
     "output_type": "stream",
     "text": [
      "Loading required package: iterators\n",
      "\n",
      "Loading required package: parallel\n",
      "\n"
     ]
    }
   ],
   "source": [
    "library('foreach')\n",
    "library('doParallel')\n",
    "cores=detectCores()\n",
    "cl <- makeCluster(cores[1]-1) #not to overload your computer\n",
    "registerDoParallel(cl)"
   ]
  },
  {
   "cell_type": "markdown",
   "id": "927f3a5c",
   "metadata": {},
   "source": [
    "### HT table calculation"
   ]
  },
  {
   "cell_type": "code",
   "execution_count": 4,
   "id": "1cd4f431",
   "metadata": {},
   "outputs": [],
   "source": [
    "ecdf_fun <- function(x,perc) ecdf(x)(perc)\n",
    "## Calculate column stats for each type\n",
    "calc_pp_2d<-function(typ,pp,ps,section){\n",
    "    nnp <- c()\n",
    "    nni <- c()\n",
    "    mnn <- c()\n",
    "    res<- list()\n",
    "    for (i in 1:length(pp)){     \n",
    "        perc<- ecdf_fun(nndist(pp[[i]]), 0.01)\n",
    "        int<- intensity(pp[[i]])\n",
    "        mval<- mean(marks(pp[[i]]))\n",
    "        nnp<-append(nnp,perc)\n",
    "        nni<-append(nni,int)\n",
    "        mnn <- append(mnn, mval)\n",
    "        res[[as.character(section[i])]] = min(ps[,i])    \n",
    "    }   \n",
    "    pval <- signif(fisher(unname(unlist(res)))$p,2)\n",
    "    res[['pval']] = pval\n",
    "    res[['perc']] = round(mean(nnp)*100,2)\n",
    "    res[['lam']] = round(mean(nni))\n",
    "    res[['conf']] = round(mean(mnn),2)\n",
    "    res[['rm']] = length(ps[,1])\n",
    "    res[['Cluster']] = typ\n",
    "    return(res)\n",
    "}"
   ]
  },
  {
   "cell_type": "markdown",
   "id": "72cd9900",
   "metadata": {},
   "source": [
    "### Excitatory clusters\n",
    "We get the list of types and sections from the filtered table.  \n",
    "We seperately test for 0074 and 0109."
   ]
  },
  {
   "cell_type": "code",
   "execution_count": 10,
   "id": "b4067eb3",
   "metadata": {},
   "outputs": [],
   "source": [
    "df<- read.csv(\"./temp/filter-exc.csv\")\n",
    "df1 <- replace(df, is.na(df), 0)\n",
    "df1[df1<=0.5] <- NA\n",
    "df1<-df1[rowSums(is.na(df1)) != ncol(df1)-1, ]\n",
    "df1<-df1[!df1$cluster%in%(c('0074 L4/5 IT CTX Glut_1','0109 L2/3 IT CTX Glut_2')), ]\n",
    "row.names(df1) <- NULL"
   ]
  },
  {
   "cell_type": "code",
   "execution_count": 11,
   "id": "bf31713d",
   "metadata": {},
   "outputs": [
    {
     "data": {
      "text/html": [
       "<style>\n",
       ".list-inline {list-style: none; margin:0; padding: 0}\n",
       ".list-inline>li {display: inline-block}\n",
       ".list-inline>li:not(:last-child)::after {content: \"\\00b7\"; padding: 0 .5ex}\n",
       "</style>\n",
       "<ol class=list-inline><li>'0003 CLA-EPd-CTX Car3 Glut_1'</li><li>'0004 CLA-EPd-CTX Car3 Glut_1'</li><li>'0007 IT EP-CLA Glut_1'</li><li>'0026 L5/6 IT TPE-ENT Glut_2'</li><li>'0061 L5 IT CTX Glut_3'</li><li>'0079 L4/5 IT CTX Glut_2'</li><li>'0086 L4/5 IT CTX Glut_3'</li><li>'0092 L4/5 IT CTX Glut_4'</li><li>'0114 L2/3 IT CTX Glut_3'</li><li>'0116 L2/3 IT CTX Glut_3'</li><li>'0359 L5 ET CTX Glut_2'</li><li>'0375 L5 ET CTX Glut_5'</li><li>'0439 L6 CT CTX Glut_1'</li><li>'0443 L6 CT CTX Glut_2'</li><li>'0453 L6 CT CTX Glut_5'</li><li>'0455 L6 CT CTX Glut_5'</li></ol>\n"
      ],
      "text/latex": [
       "\\begin{enumerate*}\n",
       "\\item '0003 CLA-EPd-CTX Car3 Glut\\_1'\n",
       "\\item '0004 CLA-EPd-CTX Car3 Glut\\_1'\n",
       "\\item '0007 IT EP-CLA Glut\\_1'\n",
       "\\item '0026 L5/6 IT TPE-ENT Glut\\_2'\n",
       "\\item '0061 L5 IT CTX Glut\\_3'\n",
       "\\item '0079 L4/5 IT CTX Glut\\_2'\n",
       "\\item '0086 L4/5 IT CTX Glut\\_3'\n",
       "\\item '0092 L4/5 IT CTX Glut\\_4'\n",
       "\\item '0114 L2/3 IT CTX Glut\\_3'\n",
       "\\item '0116 L2/3 IT CTX Glut\\_3'\n",
       "\\item '0359 L5 ET CTX Glut\\_2'\n",
       "\\item '0375 L5 ET CTX Glut\\_5'\n",
       "\\item '0439 L6 CT CTX Glut\\_1'\n",
       "\\item '0443 L6 CT CTX Glut\\_2'\n",
       "\\item '0453 L6 CT CTX Glut\\_5'\n",
       "\\item '0455 L6 CT CTX Glut\\_5'\n",
       "\\end{enumerate*}\n"
      ],
      "text/markdown": [
       "1. '0003 CLA-EPd-CTX Car3 Glut_1'\n",
       "2. '0004 CLA-EPd-CTX Car3 Glut_1'\n",
       "3. '0007 IT EP-CLA Glut_1'\n",
       "4. '0026 L5/6 IT TPE-ENT Glut_2'\n",
       "5. '0061 L5 IT CTX Glut_3'\n",
       "6. '0079 L4/5 IT CTX Glut_2'\n",
       "7. '0086 L4/5 IT CTX Glut_3'\n",
       "8. '0092 L4/5 IT CTX Glut_4'\n",
       "9. '0114 L2/3 IT CTX Glut_3'\n",
       "10. '0116 L2/3 IT CTX Glut_3'\n",
       "11. '0359 L5 ET CTX Glut_2'\n",
       "12. '0375 L5 ET CTX Glut_5'\n",
       "13. '0439 L6 CT CTX Glut_1'\n",
       "14. '0443 L6 CT CTX Glut_2'\n",
       "15. '0453 L6 CT CTX Glut_5'\n",
       "16. '0455 L6 CT CTX Glut_5'\n",
       "\n",
       "\n"
      ],
      "text/plain": [
       " [1] \"0003 CLA-EPd-CTX Car3 Glut_1\" \"0004 CLA-EPd-CTX Car3 Glut_1\"\n",
       " [3] \"0007 IT EP-CLA Glut_1\"        \"0026 L5/6 IT TPE-ENT Glut_2\" \n",
       " [5] \"0061 L5 IT CTX Glut_3\"        \"0079 L4/5 IT CTX Glut_2\"     \n",
       " [7] \"0086 L4/5 IT CTX Glut_3\"      \"0092 L4/5 IT CTX Glut_4\"     \n",
       " [9] \"0114 L2/3 IT CTX Glut_3\"      \"0116 L2/3 IT CTX Glut_3\"     \n",
       "[11] \"0359 L5 ET CTX Glut_2\"        \"0375 L5 ET CTX Glut_5\"       \n",
       "[13] \"0439 L6 CT CTX Glut_1\"        \"0443 L6 CT CTX Glut_2\"       \n",
       "[15] \"0453 L6 CT CTX Glut_5\"        \"0455 L6 CT CTX Glut_5\"       "
      ]
     },
     "metadata": {},
     "output_type": "display_data"
    }
   ],
   "source": [
    "types = df1$cluster\n",
    "types"
   ]
  },
  {
   "cell_type": "code",
   "execution_count": 12,
   "id": "64052b94",
   "metadata": {},
   "outputs": [],
   "source": [
    "sections<- apply(df1[,-1], 1, function(i) colnames(df1[,-1])[ !is.na(i) ]) ## qualified colns\n",
    "sections<- sapply(sections, function(x){as.numeric(gsub(\"X.\", \"\", x))})"
   ]
  },
  {
   "cell_type": "code",
   "execution_count": 8,
   "id": "1bbce861",
   "metadata": {},
   "outputs": [
    {
     "data": {
      "text/html": [
       "<table class=\"dataframe\">\n",
       "<caption>A data.frame: 0 × 11</caption>\n",
       "<thead>\n",
       "\t<tr><th scope=col>Cluster</th><th scope=col>X24</th><th scope=col>X23</th><th scope=col>X22</th><th scope=col>X21</th><th scope=col>X20</th><th scope=col>pval</th><th scope=col>perc</th><th scope=col>lam</th><th scope=col>conf</th><th scope=col>rm</th></tr>\n",
       "\t<tr><th scope=col>&lt;chr&gt;</th><th scope=col>&lt;lgl&gt;</th><th scope=col>&lt;lgl&gt;</th><th scope=col>&lt;lgl&gt;</th><th scope=col>&lt;lgl&gt;</th><th scope=col>&lt;lgl&gt;</th><th scope=col>&lt;lgl&gt;</th><th scope=col>&lt;lgl&gt;</th><th scope=col>&lt;lgl&gt;</th><th scope=col>&lt;lgl&gt;</th><th scope=col>&lt;lgl&gt;</th></tr>\n",
       "</thead>\n",
       "<tbody>\n",
       "</tbody>\n",
       "</table>\n"
      ],
      "text/latex": [
       "A data.frame: 0 × 11\n",
       "\\begin{tabular}{lllllllllll}\n",
       " Cluster & X24 & X23 & X22 & X21 & X20 & pval & perc & lam & conf & rm\\\\\n",
       " <chr> & <lgl> & <lgl> & <lgl> & <lgl> & <lgl> & <lgl> & <lgl> & <lgl> & <lgl> & <lgl>\\\\\n",
       "\\hline\n",
       "\\end{tabular}\n"
      ],
      "text/markdown": [
       "\n",
       "A data.frame: 0 × 11\n",
       "\n",
       "| Cluster &lt;chr&gt; | X24 &lt;lgl&gt; | X23 &lt;lgl&gt; | X22 &lt;lgl&gt; | X21 &lt;lgl&gt; | X20 &lt;lgl&gt; | pval &lt;lgl&gt; | perc &lt;lgl&gt; | lam &lt;lgl&gt; | conf &lt;lgl&gt; | rm &lt;lgl&gt; |\n",
       "|---|---|---|---|---|---|---|---|---|---|---|\n",
       "\n"
      ],
      "text/plain": [
       "     Cluster X24 X23 X22 X21 X20 pval perc lam conf rm"
      ]
     },
     "metadata": {},
     "output_type": "display_data"
    }
   ],
   "source": [
    "df = data.frame(matrix(vector(), 0, 11,\n",
    "                dimnames=list(c(), c('Cluster','24','23','22','21','20',\"pval\", \"perc\", \"lam\",'conf','rm'))),\n",
    "                stringsAsFactors=F)\n",
    "df$Cluster <- as.character(df$Cluster)\n",
    "df"
   ]
  },
  {
   "cell_type": "markdown",
   "id": "66e23bc4",
   "metadata": {},
   "source": [
    "### Table results  "
   ]
  },
  {
   "cell_type": "code",
   "execution_count": 9,
   "id": "16ddf93d",
   "metadata": {},
   "outputs": [
    {
     "data": {
      "text/html": [
       "<table class=\"dataframe\">\n",
       "<caption>A data.frame: 16 × 11</caption>\n",
       "<thead>\n",
       "\t<tr><th scope=col>Cluster</th><th scope=col>X24</th><th scope=col>X23</th><th scope=col>X22</th><th scope=col>X21</th><th scope=col>X20</th><th scope=col>pval</th><th scope=col>perc</th><th scope=col>lam</th><th scope=col>conf</th><th scope=col>rm</th></tr>\n",
       "\t<tr><th scope=col>&lt;chr&gt;</th><th scope=col>&lt;dbl&gt;</th><th scope=col>&lt;dbl&gt;</th><th scope=col>&lt;lgl&gt;</th><th scope=col>&lt;dbl&gt;</th><th scope=col>&lt;dbl&gt;</th><th scope=col>&lt;dbl&gt;</th><th scope=col>&lt;dbl&gt;</th><th scope=col>&lt;dbl&gt;</th><th scope=col>&lt;dbl&gt;</th><th scope=col>&lt;int&gt;</th></tr>\n",
       "</thead>\n",
       "<tbody>\n",
       "\t<tr><td>0003 CLA-EPd-CTX Car3 Glut_1</td><td>   NA</td><td>   NA</td><td>NA</td><td>0.935</td><td>0.010</td><td>0.05300</td><td> 9.25</td><td> 198</td><td>0.78</td><td>31</td></tr>\n",
       "\t<tr><td>0004 CLA-EPd-CTX Car3 Glut_1</td><td>   NA</td><td>0.055</td><td>NA</td><td>0.445</td><td>   NA</td><td>0.12000</td><td> 3.75</td><td> 103</td><td>0.84</td><td>41</td></tr>\n",
       "\t<tr><td>0007 IT EP-CLA Glut_1       </td><td>   NA</td><td>   NA</td><td>NA</td><td>   NA</td><td>0.030</td><td>0.03000</td><td> 3.77</td><td> 518</td><td>0.90</td><td>18</td></tr>\n",
       "\t<tr><td>0026 L5/6 IT TPE-ENT Glut_2 </td><td>   NA</td><td>0.030</td><td>NA</td><td>   NA</td><td>   NA</td><td>0.03000</td><td> 0.00</td><td> 133</td><td>0.70</td><td>40</td></tr>\n",
       "\t<tr><td>0061 L5 IT CTX Glut_3       </td><td>   NA</td><td>   NA</td><td>NA</td><td>   NA</td><td>0.005</td><td>0.00500</td><td> 0.00</td><td> 271</td><td>0.78</td><td>28</td></tr>\n",
       "\t<tr><td>0079 L4/5 IT CTX Glut_2     </td><td>0.020</td><td>   NA</td><td>NA</td><td>0.005</td><td>0.005</td><td>0.00006</td><td>11.68</td><td>1060</td><td>0.74</td><td> 7</td></tr>\n",
       "\t<tr><td>0086 L4/5 IT CTX Glut_3     </td><td>0.090</td><td>0.015</td><td>NA</td><td>   NA</td><td>   NA</td><td>0.01000</td><td> 0.00</td><td> 112</td><td>0.84</td><td>44</td></tr>\n",
       "\t<tr><td>0092 L4/5 IT CTX Glut_4     </td><td>0.005</td><td>0.050</td><td>NA</td><td>   NA</td><td>   NA</td><td>0.00230</td><td> 0.00</td><td> 243</td><td>0.71</td><td>40</td></tr>\n",
       "\t<tr><td>0114 L2/3 IT CTX Glut_3     </td><td>0.005</td><td>   NA</td><td>NA</td><td>   NA</td><td>   NA</td><td>0.00500</td><td> 3.08</td><td> 643</td><td>0.79</td><td>19</td></tr>\n",
       "\t<tr><td>0116 L2/3 IT CTX Glut_3     </td><td>0.005</td><td>0.010</td><td>NA</td><td>0.360</td><td>   NA</td><td>0.00130</td><td> 9.59</td><td> 816</td><td>0.78</td><td>11</td></tr>\n",
       "\t<tr><td>0359 L5 ET CTX Glut_2       </td><td>   NA</td><td>0.030</td><td>NA</td><td>   NA</td><td>   NA</td><td>0.03000</td><td> 0.00</td><td> 165</td><td>0.83</td><td>31</td></tr>\n",
       "\t<tr><td>0375 L5 ET CTX Glut_5       </td><td>   NA</td><td>0.015</td><td>NA</td><td>   NA</td><td>   NA</td><td>0.01500</td><td> 2.70</td><td> 340</td><td>0.80</td><td>20</td></tr>\n",
       "\t<tr><td>0439 L6 CT CTX Glut_1       </td><td>   NA</td><td>   NA</td><td>NA</td><td>0.030</td><td>   NA</td><td>0.03000</td><td> 9.52</td><td> 347</td><td>0.75</td><td>23</td></tr>\n",
       "\t<tr><td>0443 L6 CT CTX Glut_2       </td><td>   NA</td><td>   NA</td><td>NA</td><td>0.005</td><td>   NA</td><td>0.00500</td><td> 1.40</td><td> 456</td><td>0.77</td><td>20</td></tr>\n",
       "\t<tr><td>0453 L6 CT CTX Glut_5       </td><td>   NA</td><td>   NA</td><td>NA</td><td>   NA</td><td>0.075</td><td>0.07500</td><td> 0.00</td><td> 275</td><td>0.80</td><td>12</td></tr>\n",
       "\t<tr><td>0455 L6 CT CTX Glut_5       </td><td>   NA</td><td>   NA</td><td>NA</td><td>0.005</td><td>0.005</td><td>0.00029</td><td> 2.68</td><td> 506</td><td>0.77</td><td>15</td></tr>\n",
       "</tbody>\n",
       "</table>\n"
      ],
      "text/latex": [
       "A data.frame: 16 × 11\n",
       "\\begin{tabular}{lllllllllll}\n",
       " Cluster & X24 & X23 & X22 & X21 & X20 & pval & perc & lam & conf & rm\\\\\n",
       " <chr> & <dbl> & <dbl> & <lgl> & <dbl> & <dbl> & <dbl> & <dbl> & <dbl> & <dbl> & <int>\\\\\n",
       "\\hline\n",
       "\t 0003 CLA-EPd-CTX Car3 Glut\\_1 &    NA &    NA & NA & 0.935 & 0.010 & 0.05300 &  9.25 &  198 & 0.78 & 31\\\\\n",
       "\t 0004 CLA-EPd-CTX Car3 Glut\\_1 &    NA & 0.055 & NA & 0.445 &    NA & 0.12000 &  3.75 &  103 & 0.84 & 41\\\\\n",
       "\t 0007 IT EP-CLA Glut\\_1        &    NA &    NA & NA &    NA & 0.030 & 0.03000 &  3.77 &  518 & 0.90 & 18\\\\\n",
       "\t 0026 L5/6 IT TPE-ENT Glut\\_2  &    NA & 0.030 & NA &    NA &    NA & 0.03000 &  0.00 &  133 & 0.70 & 40\\\\\n",
       "\t 0061 L5 IT CTX Glut\\_3        &    NA &    NA & NA &    NA & 0.005 & 0.00500 &  0.00 &  271 & 0.78 & 28\\\\\n",
       "\t 0079 L4/5 IT CTX Glut\\_2      & 0.020 &    NA & NA & 0.005 & 0.005 & 0.00006 & 11.68 & 1060 & 0.74 &  7\\\\\n",
       "\t 0086 L4/5 IT CTX Glut\\_3      & 0.090 & 0.015 & NA &    NA &    NA & 0.01000 &  0.00 &  112 & 0.84 & 44\\\\\n",
       "\t 0092 L4/5 IT CTX Glut\\_4      & 0.005 & 0.050 & NA &    NA &    NA & 0.00230 &  0.00 &  243 & 0.71 & 40\\\\\n",
       "\t 0114 L2/3 IT CTX Glut\\_3      & 0.005 &    NA & NA &    NA &    NA & 0.00500 &  3.08 &  643 & 0.79 & 19\\\\\n",
       "\t 0116 L2/3 IT CTX Glut\\_3      & 0.005 & 0.010 & NA & 0.360 &    NA & 0.00130 &  9.59 &  816 & 0.78 & 11\\\\\n",
       "\t 0359 L5 ET CTX Glut\\_2        &    NA & 0.030 & NA &    NA &    NA & 0.03000 &  0.00 &  165 & 0.83 & 31\\\\\n",
       "\t 0375 L5 ET CTX Glut\\_5        &    NA & 0.015 & NA &    NA &    NA & 0.01500 &  2.70 &  340 & 0.80 & 20\\\\\n",
       "\t 0439 L6 CT CTX Glut\\_1        &    NA &    NA & NA & 0.030 &    NA & 0.03000 &  9.52 &  347 & 0.75 & 23\\\\\n",
       "\t 0443 L6 CT CTX Glut\\_2        &    NA &    NA & NA & 0.005 &    NA & 0.00500 &  1.40 &  456 & 0.77 & 20\\\\\n",
       "\t 0453 L6 CT CTX Glut\\_5        &    NA &    NA & NA &    NA & 0.075 & 0.07500 &  0.00 &  275 & 0.80 & 12\\\\\n",
       "\t 0455 L6 CT CTX Glut\\_5        &    NA &    NA & NA & 0.005 & 0.005 & 0.00029 &  2.68 &  506 & 0.77 & 15\\\\\n",
       "\\end{tabular}\n"
      ],
      "text/markdown": [
       "\n",
       "A data.frame: 16 × 11\n",
       "\n",
       "| Cluster &lt;chr&gt; | X24 &lt;dbl&gt; | X23 &lt;dbl&gt; | X22 &lt;lgl&gt; | X21 &lt;dbl&gt; | X20 &lt;dbl&gt; | pval &lt;dbl&gt; | perc &lt;dbl&gt; | lam &lt;dbl&gt; | conf &lt;dbl&gt; | rm &lt;int&gt; |\n",
       "|---|---|---|---|---|---|---|---|---|---|---|\n",
       "| 0003 CLA-EPd-CTX Car3 Glut_1 |    NA |    NA | NA | 0.935 | 0.010 | 0.05300 |  9.25 |  198 | 0.78 | 31 |\n",
       "| 0004 CLA-EPd-CTX Car3 Glut_1 |    NA | 0.055 | NA | 0.445 |    NA | 0.12000 |  3.75 |  103 | 0.84 | 41 |\n",
       "| 0007 IT EP-CLA Glut_1        |    NA |    NA | NA |    NA | 0.030 | 0.03000 |  3.77 |  518 | 0.90 | 18 |\n",
       "| 0026 L5/6 IT TPE-ENT Glut_2  |    NA | 0.030 | NA |    NA |    NA | 0.03000 |  0.00 |  133 | 0.70 | 40 |\n",
       "| 0061 L5 IT CTX Glut_3        |    NA |    NA | NA |    NA | 0.005 | 0.00500 |  0.00 |  271 | 0.78 | 28 |\n",
       "| 0079 L4/5 IT CTX Glut_2      | 0.020 |    NA | NA | 0.005 | 0.005 | 0.00006 | 11.68 | 1060 | 0.74 |  7 |\n",
       "| 0086 L4/5 IT CTX Glut_3      | 0.090 | 0.015 | NA |    NA |    NA | 0.01000 |  0.00 |  112 | 0.84 | 44 |\n",
       "| 0092 L4/5 IT CTX Glut_4      | 0.005 | 0.050 | NA |    NA |    NA | 0.00230 |  0.00 |  243 | 0.71 | 40 |\n",
       "| 0114 L2/3 IT CTX Glut_3      | 0.005 |    NA | NA |    NA |    NA | 0.00500 |  3.08 |  643 | 0.79 | 19 |\n",
       "| 0116 L2/3 IT CTX Glut_3      | 0.005 | 0.010 | NA | 0.360 |    NA | 0.00130 |  9.59 |  816 | 0.78 | 11 |\n",
       "| 0359 L5 ET CTX Glut_2        |    NA | 0.030 | NA |    NA |    NA | 0.03000 |  0.00 |  165 | 0.83 | 31 |\n",
       "| 0375 L5 ET CTX Glut_5        |    NA | 0.015 | NA |    NA |    NA | 0.01500 |  2.70 |  340 | 0.80 | 20 |\n",
       "| 0439 L6 CT CTX Glut_1        |    NA |    NA | NA | 0.030 |    NA | 0.03000 |  9.52 |  347 | 0.75 | 23 |\n",
       "| 0443 L6 CT CTX Glut_2        |    NA |    NA | NA | 0.005 |    NA | 0.00500 |  1.40 |  456 | 0.77 | 20 |\n",
       "| 0453 L6 CT CTX Glut_5        |    NA |    NA | NA |    NA | 0.075 | 0.07500 |  0.00 |  275 | 0.80 | 12 |\n",
       "| 0455 L6 CT CTX Glut_5        |    NA |    NA | NA | 0.005 | 0.005 | 0.00029 |  2.68 |  506 | 0.77 | 15 |\n",
       "\n"
      ],
      "text/plain": [
       "   Cluster                      X24   X23   X22 X21   X20   pval    perc  lam \n",
       "1  0003 CLA-EPd-CTX Car3 Glut_1    NA    NA NA  0.935 0.010 0.05300  9.25  198\n",
       "2  0004 CLA-EPd-CTX Car3 Glut_1    NA 0.055 NA  0.445    NA 0.12000  3.75  103\n",
       "3  0007 IT EP-CLA Glut_1           NA    NA NA     NA 0.030 0.03000  3.77  518\n",
       "4  0026 L5/6 IT TPE-ENT Glut_2     NA 0.030 NA     NA    NA 0.03000  0.00  133\n",
       "5  0061 L5 IT CTX Glut_3           NA    NA NA     NA 0.005 0.00500  0.00  271\n",
       "6  0079 L4/5 IT CTX Glut_2      0.020    NA NA  0.005 0.005 0.00006 11.68 1060\n",
       "7  0086 L4/5 IT CTX Glut_3      0.090 0.015 NA     NA    NA 0.01000  0.00  112\n",
       "8  0092 L4/5 IT CTX Glut_4      0.005 0.050 NA     NA    NA 0.00230  0.00  243\n",
       "9  0114 L2/3 IT CTX Glut_3      0.005    NA NA     NA    NA 0.00500  3.08  643\n",
       "10 0116 L2/3 IT CTX Glut_3      0.005 0.010 NA  0.360    NA 0.00130  9.59  816\n",
       "11 0359 L5 ET CTX Glut_2           NA 0.030 NA     NA    NA 0.03000  0.00  165\n",
       "12 0375 L5 ET CTX Glut_5           NA 0.015 NA     NA    NA 0.01500  2.70  340\n",
       "13 0439 L6 CT CTX Glut_1           NA    NA NA  0.030    NA 0.03000  9.52  347\n",
       "14 0443 L6 CT CTX Glut_2           NA    NA NA  0.005    NA 0.00500  1.40  456\n",
       "15 0453 L6 CT CTX Glut_5           NA    NA NA     NA 0.075 0.07500  0.00  275\n",
       "16 0455 L6 CT CTX Glut_5           NA    NA NA  0.005 0.005 0.00029  2.68  506\n",
       "   conf rm\n",
       "1  0.78 31\n",
       "2  0.84 41\n",
       "3  0.90 18\n",
       "4  0.70 40\n",
       "5  0.78 28\n",
       "6  0.74  7\n",
       "7  0.84 44\n",
       "8  0.71 40\n",
       "9  0.79 19\n",
       "10 0.78 11\n",
       "11 0.83 31\n",
       "12 0.80 20\n",
       "13 0.75 23\n",
       "14 0.77 20\n",
       "15 0.80 12\n",
       "16 0.77 15"
      ]
     },
     "metadata": {},
     "output_type": "display_data"
    }
   ],
   "source": [
    "set.seed(seeds[1])\n",
    "res1 <- foreach(t = 0:length(types), .combine=function(x,y) bind_rows(as.data.frame(x),as.data.frame(y)),.packages=c('dplyr','spatstat','poolr')) %dopar% {\n",
    "    if (t == 0){\n",
    "        q <- df\n",
    "    }\n",
    "    else{\n",
    "        pp<-create_pp(test, NULL,sections[[t]], types[t])\n",
    "        rm<-min(as.numeric(quantile(do.call(c,lapply(pp, nndist)),0.5)),0.06) \n",
    "        ps<-get_pp_2d(pp, rm, TRUE)\n",
    "        ## write into data frame\n",
    "        q <- calc_pp_2d(types[t],pp,ps,sections[[t]])\n",
    "        q\n",
    "    }\n",
    "}\n",
    "res1"
   ]
  },
  {
   "cell_type": "code",
   "execution_count": 10,
   "id": "98d3be63",
   "metadata": {},
   "outputs": [],
   "source": [
    "write.csv(res1, \"./temp/table-ex1.csv\",row.names = FALSE)"
   ]
  },
  {
   "cell_type": "markdown",
   "id": "f6a67b66",
   "metadata": {},
   "source": [
    "Iterate the process for 5 different seeds."
   ]
  },
  {
   "cell_type": "code",
   "execution_count": 67,
   "id": "c1c9678e",
   "metadata": {},
   "outputs": [
    {
     "data": {
      "text/html": [
       "<table class=\"dataframe\">\n",
       "<caption>A data.frame: 16 × 11</caption>\n",
       "<thead>\n",
       "\t<tr><th scope=col>Cluster</th><th scope=col>X24</th><th scope=col>X23</th><th scope=col>X22</th><th scope=col>X21</th><th scope=col>X20</th><th scope=col>pval</th><th scope=col>perc</th><th scope=col>lam</th><th scope=col>conf</th><th scope=col>rm</th></tr>\n",
       "\t<tr><th scope=col>&lt;chr&gt;</th><th scope=col>&lt;dbl&gt;</th><th scope=col>&lt;dbl&gt;</th><th scope=col>&lt;dbl&gt;</th><th scope=col>&lt;dbl&gt;</th><th scope=col>&lt;dbl&gt;</th><th scope=col>&lt;dbl&gt;</th><th scope=col>&lt;dbl&gt;</th><th scope=col>&lt;dbl&gt;</th><th scope=col>&lt;dbl&gt;</th><th scope=col>&lt;int&gt;</th></tr>\n",
       "</thead>\n",
       "<tbody>\n",
       "\t<tr><td>0003 CLA-EPd-CTX Car3 Glut_1</td><td>   NA</td><td>   NA</td><td>NA</td><td>0.922</td><td>0.008</td><td>4.4e-02</td><td> 9.25</td><td> 198</td><td>0.78</td><td>31</td></tr>\n",
       "\t<tr><td>0004 CLA-EPd-CTX Car3 Glut_1</td><td>   NA</td><td>0.064</td><td>NA</td><td>0.481</td><td>   NA</td><td>1.4e-01</td><td> 3.75</td><td> 103</td><td>0.84</td><td>41</td></tr>\n",
       "\t<tr><td>0007 IT EP-CLA Glut_1       </td><td>   NA</td><td>   NA</td><td>NA</td><td>   NA</td><td>0.027</td><td>2.7e-02</td><td> 3.77</td><td> 518</td><td>0.90</td><td>18</td></tr>\n",
       "\t<tr><td>0026 L5/6 IT TPE-ENT Glut_2 </td><td>   NA</td><td>0.015</td><td>NA</td><td>   NA</td><td>   NA</td><td>1.5e-02</td><td> 0.00</td><td> 133</td><td>0.70</td><td>40</td></tr>\n",
       "\t<tr><td>0061 L5 IT CTX Glut_3       </td><td>   NA</td><td>   NA</td><td>NA</td><td>   NA</td><td>0.005</td><td>5.0e-03</td><td> 0.00</td><td> 271</td><td>0.78</td><td>28</td></tr>\n",
       "\t<tr><td>0079 L4/5 IT CTX Glut_2     </td><td>0.013</td><td>   NA</td><td>NA</td><td>0.005</td><td>0.005</td><td>4.1e-05</td><td>11.68</td><td>1060</td><td>0.74</td><td> 7</td></tr>\n",
       "\t<tr><td>0086 L4/5 IT CTX Glut_3     </td><td>0.058</td><td>0.014</td><td>NA</td><td>   NA</td><td>   NA</td><td>6.6e-03</td><td> 0.00</td><td> 112</td><td>0.84</td><td>44</td></tr>\n",
       "\t<tr><td>0092 L4/5 IT CTX Glut_4     </td><td>0.005</td><td>0.067</td><td>NA</td><td>   NA</td><td>   NA</td><td>3.0e-03</td><td> 0.00</td><td> 243</td><td>0.71</td><td>40</td></tr>\n",
       "\t<tr><td>0114 L2/3 IT CTX Glut_3     </td><td>0.005</td><td>   NA</td><td>NA</td><td>   NA</td><td>   NA</td><td>5.0e-03</td><td> 3.08</td><td> 643</td><td>0.79</td><td>19</td></tr>\n",
       "\t<tr><td>0116 L2/3 IT CTX Glut_3     </td><td>0.007</td><td>0.006</td><td>NA</td><td>0.337</td><td>   NA</td><td>1.1e-03</td><td> 9.59</td><td> 816</td><td>0.78</td><td>11</td></tr>\n",
       "\t<tr><td>0359 L5 ET CTX Glut_2       </td><td>   NA</td><td>0.039</td><td>NA</td><td>   NA</td><td>   NA</td><td>3.9e-02</td><td> 0.00</td><td> 165</td><td>0.83</td><td>31</td></tr>\n",
       "\t<tr><td>0375 L5 ET CTX Glut_5       </td><td>   NA</td><td>0.011</td><td>NA</td><td>   NA</td><td>   NA</td><td>1.1e-02</td><td> 2.70</td><td> 340</td><td>0.80</td><td>20</td></tr>\n",
       "\t<tr><td>0439 L6 CT CTX Glut_1       </td><td>   NA</td><td>   NA</td><td>NA</td><td>0.024</td><td>   NA</td><td>2.4e-02</td><td> 9.52</td><td> 347</td><td>0.75</td><td>23</td></tr>\n",
       "\t<tr><td>0443 L6 CT CTX Glut_2       </td><td>   NA</td><td>   NA</td><td>NA</td><td>0.005</td><td>   NA</td><td>5.0e-03</td><td> 1.40</td><td> 456</td><td>0.77</td><td>20</td></tr>\n",
       "\t<tr><td>0453 L6 CT CTX Glut_5       </td><td>   NA</td><td>   NA</td><td>NA</td><td>   NA</td><td>0.061</td><td>6.1e-02</td><td> 0.00</td><td> 275</td><td>0.80</td><td>12</td></tr>\n",
       "\t<tr><td>0455 L6 CT CTX Glut_5       </td><td>   NA</td><td>   NA</td><td>NA</td><td>0.005</td><td>0.007</td><td>3.9e-04</td><td> 2.68</td><td> 506</td><td>0.77</td><td>15</td></tr>\n",
       "</tbody>\n",
       "</table>\n"
      ],
      "text/latex": [
       "A data.frame: 16 × 11\n",
       "\\begin{tabular}{lllllllllll}\n",
       " Cluster & X24 & X23 & X22 & X21 & X20 & pval & perc & lam & conf & rm\\\\\n",
       " <chr> & <dbl> & <dbl> & <dbl> & <dbl> & <dbl> & <dbl> & <dbl> & <dbl> & <dbl> & <int>\\\\\n",
       "\\hline\n",
       "\t 0003 CLA-EPd-CTX Car3 Glut\\_1 &    NA &    NA & NA & 0.922 & 0.008 & 4.4e-02 &  9.25 &  198 & 0.78 & 31\\\\\n",
       "\t 0004 CLA-EPd-CTX Car3 Glut\\_1 &    NA & 0.064 & NA & 0.481 &    NA & 1.4e-01 &  3.75 &  103 & 0.84 & 41\\\\\n",
       "\t 0007 IT EP-CLA Glut\\_1        &    NA &    NA & NA &    NA & 0.027 & 2.7e-02 &  3.77 &  518 & 0.90 & 18\\\\\n",
       "\t 0026 L5/6 IT TPE-ENT Glut\\_2  &    NA & 0.015 & NA &    NA &    NA & 1.5e-02 &  0.00 &  133 & 0.70 & 40\\\\\n",
       "\t 0061 L5 IT CTX Glut\\_3        &    NA &    NA & NA &    NA & 0.005 & 5.0e-03 &  0.00 &  271 & 0.78 & 28\\\\\n",
       "\t 0079 L4/5 IT CTX Glut\\_2      & 0.013 &    NA & NA & 0.005 & 0.005 & 4.1e-05 & 11.68 & 1060 & 0.74 &  7\\\\\n",
       "\t 0086 L4/5 IT CTX Glut\\_3      & 0.058 & 0.014 & NA &    NA &    NA & 6.6e-03 &  0.00 &  112 & 0.84 & 44\\\\\n",
       "\t 0092 L4/5 IT CTX Glut\\_4      & 0.005 & 0.067 & NA &    NA &    NA & 3.0e-03 &  0.00 &  243 & 0.71 & 40\\\\\n",
       "\t 0114 L2/3 IT CTX Glut\\_3      & 0.005 &    NA & NA &    NA &    NA & 5.0e-03 &  3.08 &  643 & 0.79 & 19\\\\\n",
       "\t 0116 L2/3 IT CTX Glut\\_3      & 0.007 & 0.006 & NA & 0.337 &    NA & 1.1e-03 &  9.59 &  816 & 0.78 & 11\\\\\n",
       "\t 0359 L5 ET CTX Glut\\_2        &    NA & 0.039 & NA &    NA &    NA & 3.9e-02 &  0.00 &  165 & 0.83 & 31\\\\\n",
       "\t 0375 L5 ET CTX Glut\\_5        &    NA & 0.011 & NA &    NA &    NA & 1.1e-02 &  2.70 &  340 & 0.80 & 20\\\\\n",
       "\t 0439 L6 CT CTX Glut\\_1        &    NA &    NA & NA & 0.024 &    NA & 2.4e-02 &  9.52 &  347 & 0.75 & 23\\\\\n",
       "\t 0443 L6 CT CTX Glut\\_2        &    NA &    NA & NA & 0.005 &    NA & 5.0e-03 &  1.40 &  456 & 0.77 & 20\\\\\n",
       "\t 0453 L6 CT CTX Glut\\_5        &    NA &    NA & NA &    NA & 0.061 & 6.1e-02 &  0.00 &  275 & 0.80 & 12\\\\\n",
       "\t 0455 L6 CT CTX Glut\\_5        &    NA &    NA & NA & 0.005 & 0.007 & 3.9e-04 &  2.68 &  506 & 0.77 & 15\\\\\n",
       "\\end{tabular}\n"
      ],
      "text/markdown": [
       "\n",
       "A data.frame: 16 × 11\n",
       "\n",
       "| Cluster &lt;chr&gt; | X24 &lt;dbl&gt; | X23 &lt;dbl&gt; | X22 &lt;dbl&gt; | X21 &lt;dbl&gt; | X20 &lt;dbl&gt; | pval &lt;dbl&gt; | perc &lt;dbl&gt; | lam &lt;dbl&gt; | conf &lt;dbl&gt; | rm &lt;int&gt; |\n",
       "|---|---|---|---|---|---|---|---|---|---|---|\n",
       "| 0003 CLA-EPd-CTX Car3 Glut_1 |    NA |    NA | NA | 0.922 | 0.008 | 4.4e-02 |  9.25 |  198 | 0.78 | 31 |\n",
       "| 0004 CLA-EPd-CTX Car3 Glut_1 |    NA | 0.064 | NA | 0.481 |    NA | 1.4e-01 |  3.75 |  103 | 0.84 | 41 |\n",
       "| 0007 IT EP-CLA Glut_1        |    NA |    NA | NA |    NA | 0.027 | 2.7e-02 |  3.77 |  518 | 0.90 | 18 |\n",
       "| 0026 L5/6 IT TPE-ENT Glut_2  |    NA | 0.015 | NA |    NA |    NA | 1.5e-02 |  0.00 |  133 | 0.70 | 40 |\n",
       "| 0061 L5 IT CTX Glut_3        |    NA |    NA | NA |    NA | 0.005 | 5.0e-03 |  0.00 |  271 | 0.78 | 28 |\n",
       "| 0079 L4/5 IT CTX Glut_2      | 0.013 |    NA | NA | 0.005 | 0.005 | 4.1e-05 | 11.68 | 1060 | 0.74 |  7 |\n",
       "| 0086 L4/5 IT CTX Glut_3      | 0.058 | 0.014 | NA |    NA |    NA | 6.6e-03 |  0.00 |  112 | 0.84 | 44 |\n",
       "| 0092 L4/5 IT CTX Glut_4      | 0.005 | 0.067 | NA |    NA |    NA | 3.0e-03 |  0.00 |  243 | 0.71 | 40 |\n",
       "| 0114 L2/3 IT CTX Glut_3      | 0.005 |    NA | NA |    NA |    NA | 5.0e-03 |  3.08 |  643 | 0.79 | 19 |\n",
       "| 0116 L2/3 IT CTX Glut_3      | 0.007 | 0.006 | NA | 0.337 |    NA | 1.1e-03 |  9.59 |  816 | 0.78 | 11 |\n",
       "| 0359 L5 ET CTX Glut_2        |    NA | 0.039 | NA |    NA |    NA | 3.9e-02 |  0.00 |  165 | 0.83 | 31 |\n",
       "| 0375 L5 ET CTX Glut_5        |    NA | 0.011 | NA |    NA |    NA | 1.1e-02 |  2.70 |  340 | 0.80 | 20 |\n",
       "| 0439 L6 CT CTX Glut_1        |    NA |    NA | NA | 0.024 |    NA | 2.4e-02 |  9.52 |  347 | 0.75 | 23 |\n",
       "| 0443 L6 CT CTX Glut_2        |    NA |    NA | NA | 0.005 |    NA | 5.0e-03 |  1.40 |  456 | 0.77 | 20 |\n",
       "| 0453 L6 CT CTX Glut_5        |    NA |    NA | NA |    NA | 0.061 | 6.1e-02 |  0.00 |  275 | 0.80 | 12 |\n",
       "| 0455 L6 CT CTX Glut_5        |    NA |    NA | NA | 0.005 | 0.007 | 3.9e-04 |  2.68 |  506 | 0.77 | 15 |\n",
       "\n"
      ],
      "text/plain": [
       "   Cluster                      X24   X23   X22 X21   X20   pval    perc  lam \n",
       "1  0003 CLA-EPd-CTX Car3 Glut_1    NA    NA NA  0.922 0.008 4.4e-02  9.25  198\n",
       "2  0004 CLA-EPd-CTX Car3 Glut_1    NA 0.064 NA  0.481    NA 1.4e-01  3.75  103\n",
       "3  0007 IT EP-CLA Glut_1           NA    NA NA     NA 0.027 2.7e-02  3.77  518\n",
       "4  0026 L5/6 IT TPE-ENT Glut_2     NA 0.015 NA     NA    NA 1.5e-02  0.00  133\n",
       "5  0061 L5 IT CTX Glut_3           NA    NA NA     NA 0.005 5.0e-03  0.00  271\n",
       "6  0079 L4/5 IT CTX Glut_2      0.013    NA NA  0.005 0.005 4.1e-05 11.68 1060\n",
       "7  0086 L4/5 IT CTX Glut_3      0.058 0.014 NA     NA    NA 6.6e-03  0.00  112\n",
       "8  0092 L4/5 IT CTX Glut_4      0.005 0.067 NA     NA    NA 3.0e-03  0.00  243\n",
       "9  0114 L2/3 IT CTX Glut_3      0.005    NA NA     NA    NA 5.0e-03  3.08  643\n",
       "10 0116 L2/3 IT CTX Glut_3      0.007 0.006 NA  0.337    NA 1.1e-03  9.59  816\n",
       "11 0359 L5 ET CTX Glut_2           NA 0.039 NA     NA    NA 3.9e-02  0.00  165\n",
       "12 0375 L5 ET CTX Glut_5           NA 0.011 NA     NA    NA 1.1e-02  2.70  340\n",
       "13 0439 L6 CT CTX Glut_1           NA    NA NA  0.024    NA 2.4e-02  9.52  347\n",
       "14 0443 L6 CT CTX Glut_2           NA    NA NA  0.005    NA 5.0e-03  1.40  456\n",
       "15 0453 L6 CT CTX Glut_5           NA    NA NA     NA 0.061 6.1e-02  0.00  275\n",
       "16 0455 L6 CT CTX Glut_5           NA    NA NA  0.005 0.007 3.9e-04  2.68  506\n",
       "   conf rm\n",
       "1  0.78 31\n",
       "2  0.84 41\n",
       "3  0.90 18\n",
       "4  0.70 40\n",
       "5  0.78 28\n",
       "6  0.74  7\n",
       "7  0.84 44\n",
       "8  0.71 40\n",
       "9  0.79 19\n",
       "10 0.78 11\n",
       "11 0.83 31\n",
       "12 0.80 20\n",
       "13 0.75 23\n",
       "14 0.77 20\n",
       "15 0.80 12\n",
       "16 0.77 15"
      ]
     },
     "metadata": {},
     "output_type": "display_data"
    }
   ],
   "source": [
    "res1<-read.csv(\"./temp/table-ex1.csv\")\n",
    "res2<-read.csv(\"./temp/table-ex2.csv\")\n",
    "res3<-read.csv(\"./temp/table-ex3.csv\")\n",
    "res4<-read.csv(\"./temp/table-ex4.csv\")\n",
    "res5<-read.csv(\"./temp/table-ex5.csv\")\n",
    "\n",
    "res<-Reduce(\"+\", list(res1[,2:6],res2[,2:6],res3[,2:6],res4[,2:6],res5[,2:6])) / 5\n",
    "res<-data.frame(Cluster=res1$Cluster, res)\n",
    "res$pval<-pv\n",
    "res$perc<-res1$perc\n",
    "res$lam<-res1$lam\n",
    "res$conf<-res1$conf\n",
    "res$rm<-res1$rm\n",
    "res"
   ]
  },
  {
   "cell_type": "code",
   "execution_count": 68,
   "id": "bf4997db",
   "metadata": {},
   "outputs": [],
   "source": [
    "write.csv(res, \"table-ex.csv\",row.names = FALSE)"
   ]
  },
  {
   "cell_type": "code",
   "execution_count": null,
   "id": "0d40fd13",
   "metadata": {},
   "outputs": [],
   "source": []
  }
 ],
 "metadata": {
  "kernelspec": {
   "display_name": "R",
   "language": "R",
   "name": "ir"
  },
  "language_info": {
   "codemirror_mode": "r",
   "file_extension": ".r",
   "mimetype": "text/x-r-source",
   "name": "R",
   "pygments_lexer": "r",
   "version": "4.3.1"
  }
 },
 "nbformat": 4,
 "nbformat_minor": 5
}
