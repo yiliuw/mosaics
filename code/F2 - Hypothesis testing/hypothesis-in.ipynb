{
 "cells": [
  {
   "cell_type": "markdown",
   "id": "6ed97255",
   "metadata": {},
   "source": [
    "### HT table results for inhibitory types"
   ]
  },
  {
   "cell_type": "code",
   "execution_count": 1,
   "id": "583cc01c",
   "metadata": {},
   "outputs": [
    {
     "name": "stderr",
     "output_type": "stream",
     "text": [
      "Loading required package: spatstat.data\n",
      "\n",
      "Loading required package: spatstat.geom\n",
      "\n",
      "spatstat.geom 3.2-9\n",
      "\n",
      "Loading required package: spatstat.random\n",
      "\n",
      "spatstat.random 3.2-3\n",
      "\n",
      "Loading required package: spatstat.explore\n",
      "\n",
      "Loading required package: nlme\n",
      "\n",
      "spatstat.explore 3.2-7\n",
      "\n",
      "Loading required package: spatstat.model\n",
      "\n",
      "Loading required package: rpart\n",
      "\n",
      "spatstat.model 3.2-11\n",
      "\n",
      "Loading required package: spatstat.linnet\n",
      "\n",
      "spatstat.linnet 3.1-5\n",
      "\n",
      "\n",
      "spatstat 3.0-8 \n",
      "For an introduction to spatstat, type ‘beginner’ \n",
      "\n",
      "\n",
      "\n",
      "Attaching package: ‘dplyr’\n",
      "\n",
      "\n",
      "The following object is masked from ‘package:nlme’:\n",
      "\n",
      "    collapse\n",
      "\n",
      "\n",
      "The following objects are masked from ‘package:stats’:\n",
      "\n",
      "    filter, lag\n",
      "\n",
      "\n",
      "The following objects are masked from ‘package:base’:\n",
      "\n",
      "    intersect, setdiff, setequal, union\n",
      "\n",
      "\n"
     ]
    }
   ],
   "source": [
    "source(\"./scale.R\")\n",
    "test <- read.csv(\"/data/sag_data.csv\")\n",
    "options(warn=-1)"
   ]
  },
  {
   "cell_type": "code",
   "execution_count": 2,
   "id": "96e6abc2",
   "metadata": {},
   "outputs": [
    {
     "data": {
      "text/html": [
       "<style>\n",
       ".list-inline {list-style: none; margin:0; padding: 0}\n",
       ".list-inline>li {display: inline-block}\n",
       ".list-inline>li:not(:last-child)::after {content: \"\\00b7\"; padding: 0 .5ex}\n",
       "</style>\n",
       "<ol class=list-inline><li>25</li><li>42</li><li>69</li><li>17</li><li>61</li></ol>\n"
      ],
      "text/latex": [
       "\\begin{enumerate*}\n",
       "\\item 25\n",
       "\\item 42\n",
       "\\item 69\n",
       "\\item 17\n",
       "\\item 61\n",
       "\\end{enumerate*}\n"
      ],
      "text/markdown": [
       "1. 25\n",
       "2. 42\n",
       "3. 69\n",
       "4. 17\n",
       "5. 61\n",
       "\n",
       "\n"
      ],
      "text/plain": [
       "[1] 25 42 69 17 61"
      ]
     },
     "metadata": {},
     "output_type": "display_data"
    }
   ],
   "source": [
    "seeds <- sample(1:100,5,replace=FALSE)\n",
    "seeds"
   ]
  },
  {
   "cell_type": "code",
   "execution_count": 3,
   "id": "89178a13",
   "metadata": {},
   "outputs": [
    {
     "name": "stderr",
     "output_type": "stream",
     "text": [
      "Loading required package: iterators\n",
      "\n",
      "Loading required package: parallel\n",
      "\n"
     ]
    }
   ],
   "source": [
    "library('foreach')\n",
    "library('doParallel')\n",
    "cores=detectCores()\n",
    "cl <- makeCluster(cores[1]-1) #not to overload your computer\n",
    "registerDoParallel(cl)"
   ]
  },
  {
   "cell_type": "markdown",
   "id": "927f3a5c",
   "metadata": {},
   "source": [
    "## HT table calculation"
   ]
  },
  {
   "cell_type": "code",
   "execution_count": 4,
   "id": "1cd4f431",
   "metadata": {},
   "outputs": [],
   "source": [
    "ecdf_fun <- function(x,perc) ecdf(x)(perc)\n",
    "## Calculate column stats for each type\n",
    "calc_pp_2d<-function(typ,pp,ps,section){\n",
    "    nnp <- c()\n",
    "    nni <- c()\n",
    "    mnn <- c()\n",
    "    res<- list()\n",
    "    for (i in 1:length(pp)){     \n",
    "        perc<- ecdf_fun(nndist(pp[[i]]), 0.01)\n",
    "        int<- intensity(pp[[i]])\n",
    "        mval<- mean(marks(pp[[i]]))\n",
    "        nnp<-append(nnp,perc)\n",
    "        nni<-append(nni,int)\n",
    "        mnn <- append(mnn, mval)\n",
    "        res[[as.character(section[i])]] = min(ps[,i])    \n",
    "    }   \n",
    "    pval <- signif(fisher(unname(unlist(res)))$p,2)\n",
    "    res[['pval']] = pval\n",
    "    res[['perc']] = round(mean(nnp)*100,2)\n",
    "    res[['lam']] = round(mean(nni))\n",
    "    res[['conf']] = round(mean(mnn),2)\n",
    "    res[['rm']] = length(ps[,1])\n",
    "    res[['Cluster']] = typ\n",
    "    return(res)\n",
    "}"
   ]
  },
  {
   "cell_type": "markdown",
   "id": "c13e6612",
   "metadata": {},
   "source": [
    "### Inhibitory clusters and supertypes"
   ]
  },
  {
   "cell_type": "code",
   "execution_count": 5,
   "id": "0798c88f",
   "metadata": {},
   "outputs": [
    {
     "data": {
      "text/html": [
       "<style>\n",
       ".list-inline {list-style: none; margin:0; padding: 0}\n",
       ".list-inline>li {display: inline-block}\n",
       ".list-inline>li:not(:last-child)::after {content: \"\\00b7\"; padding: 0 .5ex}\n",
       "</style>\n",
       "<ol class=list-inline><li>'0624 Vip Gaba_1'</li><li>'0641 Vip Gaba_5'</li><li>'0645 Vip Gaba_6'</li><li>'0709 Lamp5 Gaba_1'</li><li>'0740 Pvalb Gaba_3'</li><li>'0741 Pvalb Gaba_3'</li><li>'0742 Pvalb Gaba_3'</li><li>'0747 Pvalb Gaba_4'</li><li>'0754 Pvalb Gaba_8'</li><li>'0811 Sst Gaba_13'</li></ol>\n"
      ],
      "text/latex": [
       "\\begin{enumerate*}\n",
       "\\item '0624 Vip Gaba\\_1'\n",
       "\\item '0641 Vip Gaba\\_5'\n",
       "\\item '0645 Vip Gaba\\_6'\n",
       "\\item '0709 Lamp5 Gaba\\_1'\n",
       "\\item '0740 Pvalb Gaba\\_3'\n",
       "\\item '0741 Pvalb Gaba\\_3'\n",
       "\\item '0742 Pvalb Gaba\\_3'\n",
       "\\item '0747 Pvalb Gaba\\_4'\n",
       "\\item '0754 Pvalb Gaba\\_8'\n",
       "\\item '0811 Sst Gaba\\_13'\n",
       "\\end{enumerate*}\n"
      ],
      "text/markdown": [
       "1. '0624 Vip Gaba_1'\n",
       "2. '0641 Vip Gaba_5'\n",
       "3. '0645 Vip Gaba_6'\n",
       "4. '0709 Lamp5 Gaba_1'\n",
       "5. '0740 Pvalb Gaba_3'\n",
       "6. '0741 Pvalb Gaba_3'\n",
       "7. '0742 Pvalb Gaba_3'\n",
       "8. '0747 Pvalb Gaba_4'\n",
       "9. '0754 Pvalb Gaba_8'\n",
       "10. '0811 Sst Gaba_13'\n",
       "\n",
       "\n"
      ],
      "text/plain": [
       " [1] \"0624 Vip Gaba_1\"   \"0641 Vip Gaba_5\"   \"0645 Vip Gaba_6\"  \n",
       " [4] \"0709 Lamp5 Gaba_1\" \"0740 Pvalb Gaba_3\" \"0741 Pvalb Gaba_3\"\n",
       " [7] \"0742 Pvalb Gaba_3\" \"0747 Pvalb Gaba_4\" \"0754 Pvalb Gaba_8\"\n",
       "[10] \"0811 Sst Gaba_13\" "
      ]
     },
     "metadata": {},
     "output_type": "display_data"
    }
   ],
   "source": [
    "df<- read.csv(\"./temp/filter-inhib.csv\")\n",
    "df1 <- replace(df, is.na(df), 0)\n",
    "df1[df1<=0.5] <- NA\n",
    "df1<-df1[rowSums(is.na(df1)) != ncol(df1)-1, ]\n",
    "row.names(df1) <- NULL\n",
    "types1 = df1$cluster\n",
    "types1"
   ]
  },
  {
   "cell_type": "code",
   "execution_count": 6,
   "id": "dbe16c0b",
   "metadata": {},
   "outputs": [],
   "source": [
    "sections1<- apply(df1[,-1], 1, function(i) colnames(df1[,-1])[ !is.na(i) ]) ## qualified colns\n",
    "sections1<- sapply(sections1, function(x){as.numeric(gsub(\"X.\", \"\", x))})"
   ]
  },
  {
   "cell_type": "code",
   "execution_count": 7,
   "id": "006494ff",
   "metadata": {},
   "outputs": [],
   "source": [
    "sups_cluster<-function(types){\n",
    "    sups<-c()\n",
    "    for (t in types){\n",
    "        sup<- unique(test[test$cluster %in% t,]$supertype)\n",
    "        sups<-append(sups, sup)\n",
    "    }\n",
    "    return(sups)\n",
    "}"
   ]
  },
  {
   "cell_type": "code",
   "execution_count": 8,
   "id": "303f5550",
   "metadata": {},
   "outputs": [],
   "source": [
    "df<- read.csv(\"filter-inhib.csv\")\n",
    "df1 <- replace(df, is.na(df), 0)\n",
    "df1[df1<=0.5] <- NA\n",
    "df1<-df1[rowSums(is.na(df1)) != ncol(df1)-1, ]\n",
    "df1$sups<-sups_cluster(df1$cluster)\n",
    "df1<-df1[!df1$cluster%in%(c(\"0741 Pvalb Gaba_3\",'0742 Pvalb Gaba_3')), ]\n",
    "row.names(df1) <- NULL"
   ]
  },
  {
   "cell_type": "code",
   "execution_count": 9,
   "id": "f3ceb9a8",
   "metadata": {},
   "outputs": [],
   "source": [
    "types2<-df1$sups\n",
    "sections2<- apply(df1[,-c(1,7)], 1, function(i) colnames(df1[,-c(1,7)])[ !is.na(i) ]) ## qualified colns\n",
    "sections2<- sapply(sections2, function(x){as.numeric(gsub(\"X.\", \"\", x))})"
   ]
  },
  {
   "cell_type": "code",
   "execution_count": 10,
   "id": "5b33e12a",
   "metadata": {},
   "outputs": [],
   "source": [
    "types<- c(types1, types2)\n",
    "sections<-c(sections1, sections2)"
   ]
  },
  {
   "cell_type": "code",
   "execution_count": 11,
   "id": "a2e66886",
   "metadata": {},
   "outputs": [
    {
     "data": {
      "text/html": [
       "<table class=\"dataframe\">\n",
       "<caption>A data.frame: 0 × 11</caption>\n",
       "<thead>\n",
       "\t<tr><th scope=col>Cluster</th><th scope=col>X24</th><th scope=col>X23</th><th scope=col>X22</th><th scope=col>X21</th><th scope=col>X20</th><th scope=col>pval</th><th scope=col>perc</th><th scope=col>lam</th><th scope=col>conf</th><th scope=col>rm</th></tr>\n",
       "\t<tr><th scope=col>&lt;chr&gt;</th><th scope=col>&lt;lgl&gt;</th><th scope=col>&lt;lgl&gt;</th><th scope=col>&lt;lgl&gt;</th><th scope=col>&lt;lgl&gt;</th><th scope=col>&lt;lgl&gt;</th><th scope=col>&lt;lgl&gt;</th><th scope=col>&lt;lgl&gt;</th><th scope=col>&lt;lgl&gt;</th><th scope=col>&lt;lgl&gt;</th><th scope=col>&lt;lgl&gt;</th></tr>\n",
       "</thead>\n",
       "<tbody>\n",
       "</tbody>\n",
       "</table>\n"
      ],
      "text/latex": [
       "A data.frame: 0 × 11\n",
       "\\begin{tabular}{lllllllllll}\n",
       " Cluster & X24 & X23 & X22 & X21 & X20 & pval & perc & lam & conf & rm\\\\\n",
       " <chr> & <lgl> & <lgl> & <lgl> & <lgl> & <lgl> & <lgl> & <lgl> & <lgl> & <lgl> & <lgl>\\\\\n",
       "\\hline\n",
       "\\end{tabular}\n"
      ],
      "text/markdown": [
       "\n",
       "A data.frame: 0 × 11\n",
       "\n",
       "| Cluster &lt;chr&gt; | X24 &lt;lgl&gt; | X23 &lt;lgl&gt; | X22 &lt;lgl&gt; | X21 &lt;lgl&gt; | X20 &lt;lgl&gt; | pval &lt;lgl&gt; | perc &lt;lgl&gt; | lam &lt;lgl&gt; | conf &lt;lgl&gt; | rm &lt;lgl&gt; |\n",
       "|---|---|---|---|---|---|---|---|---|---|---|\n",
       "\n"
      ],
      "text/plain": [
       "     Cluster X24 X23 X22 X21 X20 pval perc lam conf rm"
      ]
     },
     "metadata": {},
     "output_type": "display_data"
    }
   ],
   "source": [
    "df = data.frame(matrix(vector(), 0, 11,\n",
    "                dimnames=list(c(), c('Cluster','24','23','22','21','20',\"pval\", \"perc\", \"lam\",'conf','rm'))),\n",
    "                stringsAsFactors=F)\n",
    "df$Cluster <- as.character(df$Cluster)\n",
    "df"
   ]
  },
  {
   "cell_type": "code",
   "execution_count": 12,
   "id": "c2e53993",
   "metadata": {},
   "outputs": [
    {
     "data": {
      "text/html": [
       "<table class=\"dataframe\">\n",
       "<caption>A data.frame: 18 × 11</caption>\n",
       "<thead>\n",
       "\t<tr><th scope=col>Cluster</th><th scope=col>X24</th><th scope=col>X23</th><th scope=col>X22</th><th scope=col>X21</th><th scope=col>X20</th><th scope=col>pval</th><th scope=col>perc</th><th scope=col>lam</th><th scope=col>conf</th><th scope=col>rm</th></tr>\n",
       "\t<tr><th scope=col>&lt;chr&gt;</th><th scope=col>&lt;dbl&gt;</th><th scope=col>&lt;dbl&gt;</th><th scope=col>&lt;dbl&gt;</th><th scope=col>&lt;dbl&gt;</th><th scope=col>&lt;dbl&gt;</th><th scope=col>&lt;dbl&gt;</th><th scope=col>&lt;dbl&gt;</th><th scope=col>&lt;dbl&gt;</th><th scope=col>&lt;dbl&gt;</th><th scope=col>&lt;int&gt;</th></tr>\n",
       "</thead>\n",
       "<tbody>\n",
       "\t<tr><td>0624 Vip Gaba_1  </td><td>0.010</td><td>  NA</td><td>   NA</td><td>   NA</td><td>   NA</td><td>0.0100</td><td>0.00</td><td> 12</td><td>0.86</td><td>111</td></tr>\n",
       "\t<tr><td>0641 Vip Gaba_5  </td><td>   NA</td><td>  NA</td><td>0.010</td><td>   NA</td><td>   NA</td><td>0.0100</td><td>0.00</td><td> 17</td><td>0.72</td><td>111</td></tr>\n",
       "\t<tr><td>0645 Vip Gaba_6  </td><td>0.015</td><td>  NA</td><td>   NA</td><td>   NA</td><td>0.080</td><td>0.0093</td><td>0.00</td><td> 14</td><td>0.82</td><td>111</td></tr>\n",
       "\t<tr><td>0709 Lamp5 Gaba_1</td><td>   NA</td><td>  NA</td><td>0.035</td><td>   NA</td><td>   NA</td><td>0.0350</td><td>0.00</td><td> 40</td><td>0.76</td><td> 72</td></tr>\n",
       "\t<tr><td>0740 Pvalb Gaba_3</td><td>0.030</td><td>0.02</td><td>   NA</td><td>0.835</td><td>0.015</td><td>0.0027</td><td>2.94</td><td> 84</td><td>0.81</td><td> 50</td></tr>\n",
       "\t<tr><td>0741 Pvalb Gaba_3</td><td>0.010</td><td>  NA</td><td>   NA</td><td>   NA</td><td>   NA</td><td>0.0100</td><td>0.00</td><td> 66</td><td>0.84</td><td> 59</td></tr>\n",
       "\t<tr><td>0742 Pvalb Gaba_3</td><td>0.095</td><td>0.07</td><td>   NA</td><td>   NA</td><td>   NA</td><td>0.0400</td><td>0.00</td><td> 39</td><td>0.89</td><td> 83</td></tr>\n",
       "\t<tr><td>0747 Pvalb Gaba_4</td><td>   NA</td><td>  NA</td><td>   NA</td><td>   NA</td><td>0.015</td><td>0.0150</td><td>0.00</td><td> 20</td><td>0.82</td><td>111</td></tr>\n",
       "\t<tr><td>0754 Pvalb Gaba_8</td><td>   NA</td><td>  NA</td><td>   NA</td><td>0.010</td><td>0.040</td><td>0.0035</td><td>1.67</td><td> 43</td><td>0.86</td><td> 82</td></tr>\n",
       "\t<tr><td>0811 Sst Gaba_13 </td><td>   NA</td><td>  NA</td><td>   NA</td><td>0.020</td><td>   NA</td><td>0.0200</td><td>0.00</td><td>  7</td><td>0.74</td><td>111</td></tr>\n",
       "\t<tr><td>0173 Vip Gaba_1  </td><td>0.010</td><td>  NA</td><td>   NA</td><td>   NA</td><td>   NA</td><td>0.0100</td><td>0.00</td><td> 11</td><td>0.82</td><td>111</td></tr>\n",
       "\t<tr><td>0177 Vip Gaba_5  </td><td>   NA</td><td>  NA</td><td>0.010</td><td>   NA</td><td>   NA</td><td>0.0100</td><td>0.00</td><td> 10</td><td>0.67</td><td>111</td></tr>\n",
       "\t<tr><td>0178 Vip Gaba_6  </td><td>0.015</td><td>  NA</td><td>   NA</td><td>   NA</td><td>0.020</td><td>0.0027</td><td>0.00</td><td> 12</td><td>0.82</td><td>111</td></tr>\n",
       "\t<tr><td>0199 Lamp5 Gaba_1</td><td>   NA</td><td>  NA</td><td>0.030</td><td>   NA</td><td>   NA</td><td>0.0300</td><td>0.00</td><td> 27</td><td>0.79</td><td> 90</td></tr>\n",
       "\t<tr><td>0207 Pvalb Gaba_3</td><td>0.015</td><td>0.99</td><td>   NA</td><td>0.930</td><td>0.165</td><td>0.1400</td><td>2.62</td><td>108</td><td>0.77</td><td> 43</td></tr>\n",
       "\t<tr><td>0208 Pvalb Gaba_4</td><td>   NA</td><td>  NA</td><td>   NA</td><td>   NA</td><td>0.045</td><td>0.0450</td><td>0.00</td><td> 28</td><td>0.77</td><td> 99</td></tr>\n",
       "\t<tr><td>0212 Pvalb Gaba_8</td><td>   NA</td><td>  NA</td><td>   NA</td><td>0.010</td><td>0.010</td><td>0.0010</td><td>1.67</td><td> 43</td><td>0.86</td><td> 82</td></tr>\n",
       "\t<tr><td>0226 Sst Gaba_13 </td><td>   NA</td><td>  NA</td><td>   NA</td><td>0.010</td><td>   NA</td><td>0.0100</td><td>0.00</td><td>  8</td><td>0.76</td><td>111</td></tr>\n",
       "</tbody>\n",
       "</table>\n"
      ],
      "text/latex": [
       "A data.frame: 18 × 11\n",
       "\\begin{tabular}{lllllllllll}\n",
       " Cluster & X24 & X23 & X22 & X21 & X20 & pval & perc & lam & conf & rm\\\\\n",
       " <chr> & <dbl> & <dbl> & <dbl> & <dbl> & <dbl> & <dbl> & <dbl> & <dbl> & <dbl> & <int>\\\\\n",
       "\\hline\n",
       "\t 0624 Vip Gaba\\_1   & 0.010 &   NA &    NA &    NA &    NA & 0.0100 & 0.00 &  12 & 0.86 & 111\\\\\n",
       "\t 0641 Vip Gaba\\_5   &    NA &   NA & 0.010 &    NA &    NA & 0.0100 & 0.00 &  17 & 0.72 & 111\\\\\n",
       "\t 0645 Vip Gaba\\_6   & 0.015 &   NA &    NA &    NA & 0.080 & 0.0093 & 0.00 &  14 & 0.82 & 111\\\\\n",
       "\t 0709 Lamp5 Gaba\\_1 &    NA &   NA & 0.035 &    NA &    NA & 0.0350 & 0.00 &  40 & 0.76 &  72\\\\\n",
       "\t 0740 Pvalb Gaba\\_3 & 0.030 & 0.02 &    NA & 0.835 & 0.015 & 0.0027 & 2.94 &  84 & 0.81 &  50\\\\\n",
       "\t 0741 Pvalb Gaba\\_3 & 0.010 &   NA &    NA &    NA &    NA & 0.0100 & 0.00 &  66 & 0.84 &  59\\\\\n",
       "\t 0742 Pvalb Gaba\\_3 & 0.095 & 0.07 &    NA &    NA &    NA & 0.0400 & 0.00 &  39 & 0.89 &  83\\\\\n",
       "\t 0747 Pvalb Gaba\\_4 &    NA &   NA &    NA &    NA & 0.015 & 0.0150 & 0.00 &  20 & 0.82 & 111\\\\\n",
       "\t 0754 Pvalb Gaba\\_8 &    NA &   NA &    NA & 0.010 & 0.040 & 0.0035 & 1.67 &  43 & 0.86 &  82\\\\\n",
       "\t 0811 Sst Gaba\\_13  &    NA &   NA &    NA & 0.020 &    NA & 0.0200 & 0.00 &   7 & 0.74 & 111\\\\\n",
       "\t 0173 Vip Gaba\\_1   & 0.010 &   NA &    NA &    NA &    NA & 0.0100 & 0.00 &  11 & 0.82 & 111\\\\\n",
       "\t 0177 Vip Gaba\\_5   &    NA &   NA & 0.010 &    NA &    NA & 0.0100 & 0.00 &  10 & 0.67 & 111\\\\\n",
       "\t 0178 Vip Gaba\\_6   & 0.015 &   NA &    NA &    NA & 0.020 & 0.0027 & 0.00 &  12 & 0.82 & 111\\\\\n",
       "\t 0199 Lamp5 Gaba\\_1 &    NA &   NA & 0.030 &    NA &    NA & 0.0300 & 0.00 &  27 & 0.79 &  90\\\\\n",
       "\t 0207 Pvalb Gaba\\_3 & 0.015 & 0.99 &    NA & 0.930 & 0.165 & 0.1400 & 2.62 & 108 & 0.77 &  43\\\\\n",
       "\t 0208 Pvalb Gaba\\_4 &    NA &   NA &    NA &    NA & 0.045 & 0.0450 & 0.00 &  28 & 0.77 &  99\\\\\n",
       "\t 0212 Pvalb Gaba\\_8 &    NA &   NA &    NA & 0.010 & 0.010 & 0.0010 & 1.67 &  43 & 0.86 &  82\\\\\n",
       "\t 0226 Sst Gaba\\_13  &    NA &   NA &    NA & 0.010 &    NA & 0.0100 & 0.00 &   8 & 0.76 & 111\\\\\n",
       "\\end{tabular}\n"
      ],
      "text/markdown": [
       "\n",
       "A data.frame: 18 × 11\n",
       "\n",
       "| Cluster &lt;chr&gt; | X24 &lt;dbl&gt; | X23 &lt;dbl&gt; | X22 &lt;dbl&gt; | X21 &lt;dbl&gt; | X20 &lt;dbl&gt; | pval &lt;dbl&gt; | perc &lt;dbl&gt; | lam &lt;dbl&gt; | conf &lt;dbl&gt; | rm &lt;int&gt; |\n",
       "|---|---|---|---|---|---|---|---|---|---|---|\n",
       "| 0624 Vip Gaba_1   | 0.010 |   NA |    NA |    NA |    NA | 0.0100 | 0.00 |  12 | 0.86 | 111 |\n",
       "| 0641 Vip Gaba_5   |    NA |   NA | 0.010 |    NA |    NA | 0.0100 | 0.00 |  17 | 0.72 | 111 |\n",
       "| 0645 Vip Gaba_6   | 0.015 |   NA |    NA |    NA | 0.080 | 0.0093 | 0.00 |  14 | 0.82 | 111 |\n",
       "| 0709 Lamp5 Gaba_1 |    NA |   NA | 0.035 |    NA |    NA | 0.0350 | 0.00 |  40 | 0.76 |  72 |\n",
       "| 0740 Pvalb Gaba_3 | 0.030 | 0.02 |    NA | 0.835 | 0.015 | 0.0027 | 2.94 |  84 | 0.81 |  50 |\n",
       "| 0741 Pvalb Gaba_3 | 0.010 |   NA |    NA |    NA |    NA | 0.0100 | 0.00 |  66 | 0.84 |  59 |\n",
       "| 0742 Pvalb Gaba_3 | 0.095 | 0.07 |    NA |    NA |    NA | 0.0400 | 0.00 |  39 | 0.89 |  83 |\n",
       "| 0747 Pvalb Gaba_4 |    NA |   NA |    NA |    NA | 0.015 | 0.0150 | 0.00 |  20 | 0.82 | 111 |\n",
       "| 0754 Pvalb Gaba_8 |    NA |   NA |    NA | 0.010 | 0.040 | 0.0035 | 1.67 |  43 | 0.86 |  82 |\n",
       "| 0811 Sst Gaba_13  |    NA |   NA |    NA | 0.020 |    NA | 0.0200 | 0.00 |   7 | 0.74 | 111 |\n",
       "| 0173 Vip Gaba_1   | 0.010 |   NA |    NA |    NA |    NA | 0.0100 | 0.00 |  11 | 0.82 | 111 |\n",
       "| 0177 Vip Gaba_5   |    NA |   NA | 0.010 |    NA |    NA | 0.0100 | 0.00 |  10 | 0.67 | 111 |\n",
       "| 0178 Vip Gaba_6   | 0.015 |   NA |    NA |    NA | 0.020 | 0.0027 | 0.00 |  12 | 0.82 | 111 |\n",
       "| 0199 Lamp5 Gaba_1 |    NA |   NA | 0.030 |    NA |    NA | 0.0300 | 0.00 |  27 | 0.79 |  90 |\n",
       "| 0207 Pvalb Gaba_3 | 0.015 | 0.99 |    NA | 0.930 | 0.165 | 0.1400 | 2.62 | 108 | 0.77 |  43 |\n",
       "| 0208 Pvalb Gaba_4 |    NA |   NA |    NA |    NA | 0.045 | 0.0450 | 0.00 |  28 | 0.77 |  99 |\n",
       "| 0212 Pvalb Gaba_8 |    NA |   NA |    NA | 0.010 | 0.010 | 0.0010 | 1.67 |  43 | 0.86 |  82 |\n",
       "| 0226 Sst Gaba_13  |    NA |   NA |    NA | 0.010 |    NA | 0.0100 | 0.00 |   8 | 0.76 | 111 |\n",
       "\n"
      ],
      "text/plain": [
       "   Cluster           X24   X23  X22   X21   X20   pval   perc lam conf rm \n",
       "1  0624 Vip Gaba_1   0.010   NA    NA    NA    NA 0.0100 0.00  12 0.86 111\n",
       "2  0641 Vip Gaba_5      NA   NA 0.010    NA    NA 0.0100 0.00  17 0.72 111\n",
       "3  0645 Vip Gaba_6   0.015   NA    NA    NA 0.080 0.0093 0.00  14 0.82 111\n",
       "4  0709 Lamp5 Gaba_1    NA   NA 0.035    NA    NA 0.0350 0.00  40 0.76  72\n",
       "5  0740 Pvalb Gaba_3 0.030 0.02    NA 0.835 0.015 0.0027 2.94  84 0.81  50\n",
       "6  0741 Pvalb Gaba_3 0.010   NA    NA    NA    NA 0.0100 0.00  66 0.84  59\n",
       "7  0742 Pvalb Gaba_3 0.095 0.07    NA    NA    NA 0.0400 0.00  39 0.89  83\n",
       "8  0747 Pvalb Gaba_4    NA   NA    NA    NA 0.015 0.0150 0.00  20 0.82 111\n",
       "9  0754 Pvalb Gaba_8    NA   NA    NA 0.010 0.040 0.0035 1.67  43 0.86  82\n",
       "10 0811 Sst Gaba_13     NA   NA    NA 0.020    NA 0.0200 0.00   7 0.74 111\n",
       "11 0173 Vip Gaba_1   0.010   NA    NA    NA    NA 0.0100 0.00  11 0.82 111\n",
       "12 0177 Vip Gaba_5      NA   NA 0.010    NA    NA 0.0100 0.00  10 0.67 111\n",
       "13 0178 Vip Gaba_6   0.015   NA    NA    NA 0.020 0.0027 0.00  12 0.82 111\n",
       "14 0199 Lamp5 Gaba_1    NA   NA 0.030    NA    NA 0.0300 0.00  27 0.79  90\n",
       "15 0207 Pvalb Gaba_3 0.015 0.99    NA 0.930 0.165 0.1400 2.62 108 0.77  43\n",
       "16 0208 Pvalb Gaba_4    NA   NA    NA    NA 0.045 0.0450 0.00  28 0.77  99\n",
       "17 0212 Pvalb Gaba_8    NA   NA    NA 0.010 0.010 0.0010 1.67  43 0.86  82\n",
       "18 0226 Sst Gaba_13     NA   NA    NA 0.010    NA 0.0100 0.00   8 0.76 111"
      ]
     },
     "metadata": {},
     "output_type": "display_data"
    }
   ],
   "source": [
    "set.seed(seeds[1]) \n",
    "res1 <- foreach(t = 0:length(types), .combine=function(x,y) bind_rows(as.data.frame(x),as.data.frame(y)),.packages=c('dplyr','spatstat','poolr')) %dopar% {\n",
    "    if (t == 0){\n",
    "        q <- df\n",
    "    }\n",
    "    else{\n",
    "        pp<-create_pp(test, NULL,sections[[t]], types[t])\n",
    "        rm<-min(as.numeric(quantile(do.call(c,lapply(pp, nndist)),0.5)),0.12) \n",
    "        ps<-get_pp_2d(pp, rm, FALSE)\n",
    "        \n",
    "        ## write into data frame\n",
    "        q <- calc_pp_2d(types[t],pp,ps,sections[[t]])    \n",
    "        q\n",
    "    }\n",
    "}\n",
    "res1"
   ]
  },
  {
   "cell_type": "code",
   "execution_count": 13,
   "id": "c688d5ad",
   "metadata": {},
   "outputs": [],
   "source": [
    "write.csv(res1, \"./temp/table-in1.csv\",row.names = FALSE)"
   ]
  },
  {
   "cell_type": "markdown",
   "id": "3e9ba0b3",
   "metadata": {},
   "source": [
    "Iterate the process for 5 different seeds.  "
   ]
  },
  {
   "cell_type": "code",
   "execution_count": 1,
   "id": "b71807bf",
   "metadata": {},
   "outputs": [],
   "source": [
    "res1<-read.csv(\"./temp/table-in1.csv\")\n",
    "res2<-read.csv(\"./temp/table-in2.csv\")\n",
    "res3<-read.csv(\"./temp/table-in3.csv\")\n",
    "res4<-read.csv(\"./temp/table-in4.csv\")\n",
    "res5<-read.csv(\"./temp/table-in5.csv\")"
   ]
  },
  {
   "cell_type": "code",
   "execution_count": 4,
   "id": "54bc1ec5",
   "metadata": {},
   "outputs": [
    {
     "data": {
      "text/html": [
       "<table class=\"dataframe\">\n",
       "<caption>A data.frame: 18 × 11</caption>\n",
       "<thead>\n",
       "\t<tr><th scope=col>Cluster</th><th scope=col>X24</th><th scope=col>X23</th><th scope=col>X22</th><th scope=col>X21</th><th scope=col>X20</th><th scope=col>pval</th><th scope=col>perc</th><th scope=col>lam</th><th scope=col>conf</th><th scope=col>rm</th></tr>\n",
       "\t<tr><th scope=col>&lt;chr&gt;</th><th scope=col>&lt;dbl&gt;</th><th scope=col>&lt;dbl&gt;</th><th scope=col>&lt;dbl&gt;</th><th scope=col>&lt;dbl&gt;</th><th scope=col>&lt;dbl&gt;</th><th scope=col>&lt;dbl&gt;</th><th scope=col>&lt;dbl&gt;</th><th scope=col>&lt;int&gt;</th><th scope=col>&lt;dbl&gt;</th><th scope=col>&lt;int&gt;</th></tr>\n",
       "</thead>\n",
       "<tbody>\n",
       "\t<tr><td>0624 Vip Gaba_1  </td><td>0.011</td><td>   NA</td><td>   NA</td><td>   NA</td><td>   NA</td><td>0.0110</td><td>0.00</td><td> 12</td><td>0.86</td><td>111</td></tr>\n",
       "\t<tr><td>0641 Vip Gaba_5  </td><td>   NA</td><td>   NA</td><td>0.013</td><td>   NA</td><td>   NA</td><td>0.0130</td><td>0.00</td><td> 17</td><td>0.72</td><td>111</td></tr>\n",
       "\t<tr><td>0645 Vip Gaba_6  </td><td>0.025</td><td>   NA</td><td>   NA</td><td>   NA</td><td>0.085</td><td>0.0150</td><td>0.00</td><td> 14</td><td>0.82</td><td>111</td></tr>\n",
       "\t<tr><td>0709 Lamp5 Gaba_1</td><td>   NA</td><td>   NA</td><td>0.029</td><td>   NA</td><td>   NA</td><td>0.0290</td><td>0.00</td><td> 40</td><td>0.76</td><td> 72</td></tr>\n",
       "\t<tr><td>0740 Pvalb Gaba_3</td><td>0.026</td><td>0.039</td><td>   NA</td><td>0.841</td><td>0.017</td><td>0.0044</td><td>2.94</td><td> 84</td><td>0.81</td><td> 50</td></tr>\n",
       "\t<tr><td>0741 Pvalb Gaba_3</td><td>0.007</td><td>   NA</td><td>   NA</td><td>   NA</td><td>   NA</td><td>0.0070</td><td>0.00</td><td> 66</td><td>0.84</td><td> 59</td></tr>\n",
       "\t<tr><td>0742 Pvalb Gaba_3</td><td>0.063</td><td>0.040</td><td>   NA</td><td>   NA</td><td>   NA</td><td>0.0180</td><td>0.00</td><td> 39</td><td>0.89</td><td> 83</td></tr>\n",
       "\t<tr><td>0747 Pvalb Gaba_4</td><td>   NA</td><td>   NA</td><td>   NA</td><td>   NA</td><td>0.017</td><td>0.0170</td><td>0.00</td><td> 20</td><td>0.82</td><td>111</td></tr>\n",
       "\t<tr><td>0754 Pvalb Gaba_8</td><td>   NA</td><td>   NA</td><td>   NA</td><td>0.008</td><td>0.028</td><td>0.0021</td><td>1.67</td><td> 43</td><td>0.86</td><td> 82</td></tr>\n",
       "\t<tr><td>0811 Sst Gaba_13 </td><td>   NA</td><td>   NA</td><td>   NA</td><td>0.018</td><td>   NA</td><td>0.0180</td><td>0.00</td><td>  7</td><td>0.74</td><td>111</td></tr>\n",
       "\t<tr><td>0173 Vip Gaba_1  </td><td>0.013</td><td>   NA</td><td>   NA</td><td>   NA</td><td>   NA</td><td>0.0130</td><td>0.00</td><td> 11</td><td>0.82</td><td>111</td></tr>\n",
       "\t<tr><td>0177 Vip Gaba_5  </td><td>   NA</td><td>   NA</td><td>0.010</td><td>   NA</td><td>   NA</td><td>0.0100</td><td>0.00</td><td> 10</td><td>0.67</td><td>111</td></tr>\n",
       "\t<tr><td>0178 Vip Gaba_6  </td><td>0.020</td><td>   NA</td><td>   NA</td><td>   NA</td><td>0.091</td><td>0.0130</td><td>0.00</td><td> 12</td><td>0.82</td><td>111</td></tr>\n",
       "\t<tr><td>0199 Lamp5 Gaba_1</td><td>   NA</td><td>   NA</td><td>0.068</td><td>   NA</td><td>   NA</td><td>0.0680</td><td>0.00</td><td> 27</td><td>0.79</td><td> 90</td></tr>\n",
       "\t<tr><td>0207 Pvalb Gaba_3</td><td>0.017</td><td>0.994</td><td>   NA</td><td>0.930</td><td>0.126</td><td>0.1300</td><td>2.62</td><td>108</td><td>0.77</td><td> 43</td></tr>\n",
       "\t<tr><td>0208 Pvalb Gaba_4</td><td>   NA</td><td>   NA</td><td>   NA</td><td>   NA</td><td>0.101</td><td>0.1000</td><td>0.00</td><td> 28</td><td>0.77</td><td> 99</td></tr>\n",
       "\t<tr><td>0212 Pvalb Gaba_8</td><td>   NA</td><td>   NA</td><td>   NA</td><td>0.010</td><td>0.026</td><td>0.0024</td><td>1.67</td><td> 43</td><td>0.86</td><td> 82</td></tr>\n",
       "\t<tr><td>0226 Sst Gaba_13 </td><td>   NA</td><td>   NA</td><td>   NA</td><td>0.018</td><td>   NA</td><td>0.0180</td><td>0.00</td><td>  8</td><td>0.76</td><td>111</td></tr>\n",
       "</tbody>\n",
       "</table>\n"
      ],
      "text/latex": [
       "A data.frame: 18 × 11\n",
       "\\begin{tabular}{lllllllllll}\n",
       " Cluster & X24 & X23 & X22 & X21 & X20 & pval & perc & lam & conf & rm\\\\\n",
       " <chr> & <dbl> & <dbl> & <dbl> & <dbl> & <dbl> & <dbl> & <dbl> & <int> & <dbl> & <int>\\\\\n",
       "\\hline\n",
       "\t 0624 Vip Gaba\\_1   & 0.011 &    NA &    NA &    NA &    NA & 0.0110 & 0.00 &  12 & 0.86 & 111\\\\\n",
       "\t 0641 Vip Gaba\\_5   &    NA &    NA & 0.013 &    NA &    NA & 0.0130 & 0.00 &  17 & 0.72 & 111\\\\\n",
       "\t 0645 Vip Gaba\\_6   & 0.025 &    NA &    NA &    NA & 0.085 & 0.0150 & 0.00 &  14 & 0.82 & 111\\\\\n",
       "\t 0709 Lamp5 Gaba\\_1 &    NA &    NA & 0.029 &    NA &    NA & 0.0290 & 0.00 &  40 & 0.76 &  72\\\\\n",
       "\t 0740 Pvalb Gaba\\_3 & 0.026 & 0.039 &    NA & 0.841 & 0.017 & 0.0044 & 2.94 &  84 & 0.81 &  50\\\\\n",
       "\t 0741 Pvalb Gaba\\_3 & 0.007 &    NA &    NA &    NA &    NA & 0.0070 & 0.00 &  66 & 0.84 &  59\\\\\n",
       "\t 0742 Pvalb Gaba\\_3 & 0.063 & 0.040 &    NA &    NA &    NA & 0.0180 & 0.00 &  39 & 0.89 &  83\\\\\n",
       "\t 0747 Pvalb Gaba\\_4 &    NA &    NA &    NA &    NA & 0.017 & 0.0170 & 0.00 &  20 & 0.82 & 111\\\\\n",
       "\t 0754 Pvalb Gaba\\_8 &    NA &    NA &    NA & 0.008 & 0.028 & 0.0021 & 1.67 &  43 & 0.86 &  82\\\\\n",
       "\t 0811 Sst Gaba\\_13  &    NA &    NA &    NA & 0.018 &    NA & 0.0180 & 0.00 &   7 & 0.74 & 111\\\\\n",
       "\t 0173 Vip Gaba\\_1   & 0.013 &    NA &    NA &    NA &    NA & 0.0130 & 0.00 &  11 & 0.82 & 111\\\\\n",
       "\t 0177 Vip Gaba\\_5   &    NA &    NA & 0.010 &    NA &    NA & 0.0100 & 0.00 &  10 & 0.67 & 111\\\\\n",
       "\t 0178 Vip Gaba\\_6   & 0.020 &    NA &    NA &    NA & 0.091 & 0.0130 & 0.00 &  12 & 0.82 & 111\\\\\n",
       "\t 0199 Lamp5 Gaba\\_1 &    NA &    NA & 0.068 &    NA &    NA & 0.0680 & 0.00 &  27 & 0.79 &  90\\\\\n",
       "\t 0207 Pvalb Gaba\\_3 & 0.017 & 0.994 &    NA & 0.930 & 0.126 & 0.1300 & 2.62 & 108 & 0.77 &  43\\\\\n",
       "\t 0208 Pvalb Gaba\\_4 &    NA &    NA &    NA &    NA & 0.101 & 0.1000 & 0.00 &  28 & 0.77 &  99\\\\\n",
       "\t 0212 Pvalb Gaba\\_8 &    NA &    NA &    NA & 0.010 & 0.026 & 0.0024 & 1.67 &  43 & 0.86 &  82\\\\\n",
       "\t 0226 Sst Gaba\\_13  &    NA &    NA &    NA & 0.018 &    NA & 0.0180 & 0.00 &   8 & 0.76 & 111\\\\\n",
       "\\end{tabular}\n"
      ],
      "text/markdown": [
       "\n",
       "A data.frame: 18 × 11\n",
       "\n",
       "| Cluster &lt;chr&gt; | X24 &lt;dbl&gt; | X23 &lt;dbl&gt; | X22 &lt;dbl&gt; | X21 &lt;dbl&gt; | X20 &lt;dbl&gt; | pval &lt;dbl&gt; | perc &lt;dbl&gt; | lam &lt;int&gt; | conf &lt;dbl&gt; | rm &lt;int&gt; |\n",
       "|---|---|---|---|---|---|---|---|---|---|---|\n",
       "| 0624 Vip Gaba_1   | 0.011 |    NA |    NA |    NA |    NA | 0.0110 | 0.00 |  12 | 0.86 | 111 |\n",
       "| 0641 Vip Gaba_5   |    NA |    NA | 0.013 |    NA |    NA | 0.0130 | 0.00 |  17 | 0.72 | 111 |\n",
       "| 0645 Vip Gaba_6   | 0.025 |    NA |    NA |    NA | 0.085 | 0.0150 | 0.00 |  14 | 0.82 | 111 |\n",
       "| 0709 Lamp5 Gaba_1 |    NA |    NA | 0.029 |    NA |    NA | 0.0290 | 0.00 |  40 | 0.76 |  72 |\n",
       "| 0740 Pvalb Gaba_3 | 0.026 | 0.039 |    NA | 0.841 | 0.017 | 0.0044 | 2.94 |  84 | 0.81 |  50 |\n",
       "| 0741 Pvalb Gaba_3 | 0.007 |    NA |    NA |    NA |    NA | 0.0070 | 0.00 |  66 | 0.84 |  59 |\n",
       "| 0742 Pvalb Gaba_3 | 0.063 | 0.040 |    NA |    NA |    NA | 0.0180 | 0.00 |  39 | 0.89 |  83 |\n",
       "| 0747 Pvalb Gaba_4 |    NA |    NA |    NA |    NA | 0.017 | 0.0170 | 0.00 |  20 | 0.82 | 111 |\n",
       "| 0754 Pvalb Gaba_8 |    NA |    NA |    NA | 0.008 | 0.028 | 0.0021 | 1.67 |  43 | 0.86 |  82 |\n",
       "| 0811 Sst Gaba_13  |    NA |    NA |    NA | 0.018 |    NA | 0.0180 | 0.00 |   7 | 0.74 | 111 |\n",
       "| 0173 Vip Gaba_1   | 0.013 |    NA |    NA |    NA |    NA | 0.0130 | 0.00 |  11 | 0.82 | 111 |\n",
       "| 0177 Vip Gaba_5   |    NA |    NA | 0.010 |    NA |    NA | 0.0100 | 0.00 |  10 | 0.67 | 111 |\n",
       "| 0178 Vip Gaba_6   | 0.020 |    NA |    NA |    NA | 0.091 | 0.0130 | 0.00 |  12 | 0.82 | 111 |\n",
       "| 0199 Lamp5 Gaba_1 |    NA |    NA | 0.068 |    NA |    NA | 0.0680 | 0.00 |  27 | 0.79 |  90 |\n",
       "| 0207 Pvalb Gaba_3 | 0.017 | 0.994 |    NA | 0.930 | 0.126 | 0.1300 | 2.62 | 108 | 0.77 |  43 |\n",
       "| 0208 Pvalb Gaba_4 |    NA |    NA |    NA |    NA | 0.101 | 0.1000 | 0.00 |  28 | 0.77 |  99 |\n",
       "| 0212 Pvalb Gaba_8 |    NA |    NA |    NA | 0.010 | 0.026 | 0.0024 | 1.67 |  43 | 0.86 |  82 |\n",
       "| 0226 Sst Gaba_13  |    NA |    NA |    NA | 0.018 |    NA | 0.0180 | 0.00 |   8 | 0.76 | 111 |\n",
       "\n"
      ],
      "text/plain": [
       "   Cluster           X24   X23   X22   X21   X20   pval   perc lam conf rm \n",
       "1  0624 Vip Gaba_1   0.011    NA    NA    NA    NA 0.0110 0.00  12 0.86 111\n",
       "2  0641 Vip Gaba_5      NA    NA 0.013    NA    NA 0.0130 0.00  17 0.72 111\n",
       "3  0645 Vip Gaba_6   0.025    NA    NA    NA 0.085 0.0150 0.00  14 0.82 111\n",
       "4  0709 Lamp5 Gaba_1    NA    NA 0.029    NA    NA 0.0290 0.00  40 0.76  72\n",
       "5  0740 Pvalb Gaba_3 0.026 0.039    NA 0.841 0.017 0.0044 2.94  84 0.81  50\n",
       "6  0741 Pvalb Gaba_3 0.007    NA    NA    NA    NA 0.0070 0.00  66 0.84  59\n",
       "7  0742 Pvalb Gaba_3 0.063 0.040    NA    NA    NA 0.0180 0.00  39 0.89  83\n",
       "8  0747 Pvalb Gaba_4    NA    NA    NA    NA 0.017 0.0170 0.00  20 0.82 111\n",
       "9  0754 Pvalb Gaba_8    NA    NA    NA 0.008 0.028 0.0021 1.67  43 0.86  82\n",
       "10 0811 Sst Gaba_13     NA    NA    NA 0.018    NA 0.0180 0.00   7 0.74 111\n",
       "11 0173 Vip Gaba_1   0.013    NA    NA    NA    NA 0.0130 0.00  11 0.82 111\n",
       "12 0177 Vip Gaba_5      NA    NA 0.010    NA    NA 0.0100 0.00  10 0.67 111\n",
       "13 0178 Vip Gaba_6   0.020    NA    NA    NA 0.091 0.0130 0.00  12 0.82 111\n",
       "14 0199 Lamp5 Gaba_1    NA    NA 0.068    NA    NA 0.0680 0.00  27 0.79  90\n",
       "15 0207 Pvalb Gaba_3 0.017 0.994    NA 0.930 0.126 0.1300 2.62 108 0.77  43\n",
       "16 0208 Pvalb Gaba_4    NA    NA    NA    NA 0.101 0.1000 0.00  28 0.77  99\n",
       "17 0212 Pvalb Gaba_8    NA    NA    NA 0.010 0.026 0.0024 1.67  43 0.86  82\n",
       "18 0226 Sst Gaba_13     NA    NA    NA 0.018    NA 0.0180 0.00   8 0.76 111"
      ]
     },
     "metadata": {},
     "output_type": "display_data"
    }
   ],
   "source": [
    "res<-Reduce(\"+\", list(res1[,2:6],res2[,2:6],res3[,2:6],res4[,2:6],res5[,2:6])) / 5\n",
    "res<-data.frame(Cluster=res1$Cluster, res)\n",
    "\n",
    "pv = c()\n",
    "for(i in 1:nrow(res)) {\n",
    "    row <- na.omit(unlist(unname(res[i,2:6])))\n",
    "    pval <- signif(fisher(row)$p,2)\n",
    "    pv<-append(pv,pval)\n",
    "}\n",
    "res$pval<-pv\n",
    "res$perc<-res1$perc\n",
    "res$lam<-res1$lam\n",
    "res$conf<-res1$conf\n",
    "res$rm<-res1$rm\n",
    "res"
   ]
  },
  {
   "cell_type": "code",
   "execution_count": 6,
   "id": "9e0678e6",
   "metadata": {},
   "outputs": [],
   "source": [
    "write.csv(res, \"table-in.csv\",row.names = FALSE)"
   ]
  },
  {
   "cell_type": "code",
   "execution_count": 13,
   "id": "612c6dcd",
   "metadata": {},
   "outputs": [
    {
     "data": {
      "text/html": [
       "<style>\n",
       ".list-inline {list-style: none; margin:0; padding: 0}\n",
       ".list-inline>li {display: inline-block}\n",
       ".list-inline>li:not(:last-child)::after {content: \"\\00b7\"; padding: 0 .5ex}\n",
       "</style>\n",
       "<ol class=list-inline><li>0.0231428571428571</li><li>0.0231428571428571</li><li>0.0231428571428571</li><li>0.0348</li><li>0.0231428571428571</li><li>0.0231428571428571</li><li>0.0231428571428571</li><li>0.0231428571428571</li><li>0.0216</li><li>0.0231428571428571</li><li>0.0231428571428571</li><li>0.0231428571428571</li><li>0.0231428571428571</li><li>0.0765</li><li>0.13</li><li>0.105882352941176</li><li>0.0216</li><li>0.0231428571428571</li></ol>\n"
      ],
      "text/latex": [
       "\\begin{enumerate*}\n",
       "\\item 0.0231428571428571\n",
       "\\item 0.0231428571428571\n",
       "\\item 0.0231428571428571\n",
       "\\item 0.0348\n",
       "\\item 0.0231428571428571\n",
       "\\item 0.0231428571428571\n",
       "\\item 0.0231428571428571\n",
       "\\item 0.0231428571428571\n",
       "\\item 0.0216\n",
       "\\item 0.0231428571428571\n",
       "\\item 0.0231428571428571\n",
       "\\item 0.0231428571428571\n",
       "\\item 0.0231428571428571\n",
       "\\item 0.0765\n",
       "\\item 0.13\n",
       "\\item 0.105882352941176\n",
       "\\item 0.0216\n",
       "\\item 0.0231428571428571\n",
       "\\end{enumerate*}\n"
      ],
      "text/markdown": [
       "1. 0.0231428571428571\n",
       "2. 0.0231428571428571\n",
       "3. 0.0231428571428571\n",
       "4. 0.0348\n",
       "5. 0.0231428571428571\n",
       "6. 0.0231428571428571\n",
       "7. 0.0231428571428571\n",
       "8. 0.0231428571428571\n",
       "9. 0.0216\n",
       "10. 0.0231428571428571\n",
       "11. 0.0231428571428571\n",
       "12. 0.0231428571428571\n",
       "13. 0.0231428571428571\n",
       "14. 0.0765\n",
       "15. 0.13\n",
       "16. 0.105882352941176\n",
       "17. 0.0216\n",
       "18. 0.0231428571428571\n",
       "\n",
       "\n"
      ],
      "text/plain": [
       " [1] 0.02314286 0.02314286 0.02314286 0.03480000 0.02314286 0.02314286\n",
       " [7] 0.02314286 0.02314286 0.02160000 0.02314286 0.02314286 0.02314286\n",
       "[13] 0.02314286 0.07650000 0.13000000 0.10588235 0.02160000 0.02314286"
      ]
     },
     "metadata": {},
     "output_type": "display_data"
    }
   ],
   "source": [
    "p.adjust(res$pval, method=\"BH\")"
   ]
  },
  {
   "cell_type": "markdown",
   "id": "f2c77c24",
   "metadata": {},
   "source": [
    "**Subclasses**: We do the same tests for subclasses."
   ]
  },
  {
   "cell_type": "code",
   "execution_count": 4,
   "id": "c3d78f48",
   "metadata": {},
   "outputs": [],
   "source": [
    "types<-c('046 Vip Gaba','049 Lamp5 Gaba','052 Pvalb Gaba','053 Sst Gaba')\n",
    "sections<- list(c(24,20),c(22),c(24,23,21,20),c(21))\n",
    "res1 <- foreach(t = 0:length(types), .combine=function(x,y) bind_rows(as.data.frame(x),as.data.frame(y)),.packages=c('dplyr','spatstat','poolr')) %dopar% {\n",
    "    if (t == 0){\n",
    "        q <- df\n",
    "    }\n",
    "    else{\n",
    "        pp<-create_pp(test, 'FULL',sections[[t]], types[t])\n",
    "        rm<-min(as.numeric(quantile(do.call(c,lapply(pp, nndist)),0.5)),0.12) \n",
    "        ps<-get_pp_2d(pp, rm, FALSE)\n",
    "\n",
    "        ## write into data frame\n",
    "        q <- calc_pp_2d(types[t],pp,ps,sections[[t]])\n",
    "        q\n",
    "    }\n",
    "}"
   ]
  },
  {
   "cell_type": "code",
   "execution_count": null,
   "id": "5b1cb5bc",
   "metadata": {},
   "outputs": [],
   "source": []
  }
 ],
 "metadata": {
  "kernelspec": {
   "display_name": "R",
   "language": "R",
   "name": "ir"
  },
  "language_info": {
   "codemirror_mode": "r",
   "file_extension": ".r",
   "mimetype": "text/x-r-source",
   "name": "R",
   "pygments_lexer": "r",
   "version": "4.3.1"
  }
 },
 "nbformat": 4,
 "nbformat_minor": 5
}
